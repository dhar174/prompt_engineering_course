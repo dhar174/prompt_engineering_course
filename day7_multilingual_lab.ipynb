{
 "cells": [
  {
   "cell_type": "markdown",
   "id": "bfdd741e",
   "metadata": {},
   "source": [
    "# Multilingual & Cross‑Lingual Prompting Lab\n",
    "We use **mT5‑base** to translate and answer questions in three languages."
   ]
  },
  {
   "cell_type": "markdown",
   "id": "dd69b53c",
   "metadata": {},
   "source": [
    "## 1. Install & load"
   ]
  },
  {
   "cell_type": "code",
   "execution_count": null,
   "id": "add3b0bb",
   "metadata": {},
   "outputs": [],
   "source": [
    "!pip -q install --upgrade transformers sentencepiece\n",
    "from transformers import AutoTokenizer, AutoModelForSeq2SeqLM\n",
    "model_name='google/mt5-base'\n",
    "tok=AutoTokenizer.from_pretrained(model_name)\n",
    "model=AutoModelForSeq2SeqLM.from_pretrained(model_name)\n"
   ]
  },
  {
   "cell_type": "markdown",
   "id": "3e36d9ee",
   "metadata": {},
   "source": [
    "## 2. Helper to generate"
   ]
  },
  {
   "cell_type": "code",
   "execution_count": null,
   "id": "5ceafeb4",
   "metadata": {},
   "outputs": [],
   "source": [
    "def generate(prompt, lang_tag='<extra_id_0>'):\n",
    "    # Incorporate lang_tag as a prefix to guide multilingual generation\n",
    "    if lang_tag and lang_tag != '<extra_id_0>':\n",
    "        full_prompt = f'{lang_tag} {prompt}'\n",
    "    else:\n",
    "        full_prompt = prompt\n",
    "    \n",
    "    input_ids=tok.encode(full_prompt, return_tensors='pt')\n",
    "    out=model.generate(input_ids, max_new_tokens=64)\n",
    "    return tok.decode(out[0], skip_special_tokens=True)\n"
   ]
  },
  {
   "cell_type": "markdown",
   "id": "2a7e8d3c",
   "metadata": {},
   "source": [
    "### Demo: Using lang_tag parameter\n",
    "The `lang_tag` parameter can be used to prefix prompts with language-specific instructions."
   ]
  },
  {
   "cell_type": "code",
   "execution_count": null,
   "id": "1b2c3d4e",
   "metadata": {},
   "outputs": [],
   "source": [
    "# Example with lang_tag parameter\n",
    "text = 'The weather is beautiful today.'\n",
    "\n",
    "# Using lang_tag for different translation tasks\n",
    "print('Spanish:', generate(text, lang_tag='translate English to Spanish:'))\n",
    "print('French:', generate(text, lang_tag='translate English to French:'))\n",
    "print('German:', generate(text, lang_tag='translate English to German:'))"
   ]
  },
  {
   "cell_type": "markdown",
   "id": "8f63d755",
   "metadata": {},
   "source": [
    "### Task: Summarise a news headline in three languages"
   ]
  },
  {
   "cell_type": "code",
   "execution_count": null,
   "id": "dfcb986f",
   "metadata": {},
   "outputs": [],
   "source": [
    "headline='Scientists discover a new exoplanet resembling Earth.'\n",
    "\n",
    "# Original approach: concatenating prefix with headline\n",
    "print('=== Original approach ===')\n",
    "for lang,tag in [('English',''),('Spanish','translate English to Spanish: '),('Chinese','translate English to Chinese: ')]:\n",
    "    print(lang, generate(tag+headline))\n",
    "\n",
    "print('\\n=== Using lang_tag parameter ===')\n",
    "# New approach: using lang_tag parameter for cleaner separation\n",
    "for lang,tag in [('English',''),('Spanish','translate English to Spanish:'),('Chinese','translate English to Chinese:')]:\n",
    "    print(lang, generate(headline, lang_tag=tag))"
   ]
  },
  {
   "cell_type": "markdown",
   "id": "7a36f7fe",
   "metadata": {},
   "source": [
    "## 3. Cross‑lingual Q&A\n",
    "Ask in English, answer in German."
   ]
  },
  {
   "cell_type": "code",
   "execution_count": null,
   "id": "055d6938",
   "metadata": {},
   "outputs": [],
   "source": [
    "q='When was the Great Wall of China built?'\n",
    "\n",
    "# Original approach\n",
    "print('=== Original approach ===')\n",
    "prompt=f'translate English to German: Beantworte die Frage: {q}'\n",
    "print(generate(prompt))\n",
    "\n",
    "# Using lang_tag parameter\n",
    "print('\\n=== Using lang_tag parameter ===')\n",
    "print(generate(f'Beantworte die Frage: {q}', lang_tag='translate English to German:'))"
   ]
  },
  {
   "cell_type": "markdown",
   "id": "309fc06f",
   "metadata": {},
   "source": [
    "### Exercise\n",
    "1. Craft a *single* prompt template that detects input language and responds in that language.\n",
    "2. Evaluate fluency with BLEU or COMET (advanced).\n",
    "3. **New**: Experiment with the `lang_tag` parameter to create more modular multilingual prompts.\n",
    "4. **New**: Try combining multiple language instructions in the `lang_tag` parameter."
   ]
  },
  {
   "cell_type": "markdown",
   "id": "4f5e6d7c",
   "metadata": {},
   "source": [
    "### Advanced lang_tag Examples\n",
    "Explore more sophisticated uses of the `lang_tag` parameter."
   ]
  },
  {
   "cell_type": "code",
   "execution_count": null,
   "id": "8e9f0a1b",
   "metadata": {},
   "outputs": [],
   "source": [
    "# Example: Complex multilingual tasks with lang_tag\n",
    "story = 'Once upon a time, there was a brave knight who saved the kingdom.'\n",
    "\n",
    "# Summarize and translate simultaneously\n",
    "print('Summarize in Spanish:')\n",
    "print(generate(story, lang_tag='summarize in Spanish:'))\n",
    "\n",
    "print('\\nTranslate to French and make it formal:')\n",
    "print(generate(story, lang_tag='translate to formal French:'))\n",
    "\n",
    "print('\\nConvert to Chinese and make it poetic:')\n",
    "print(generate(story, lang_tag='translate to poetic Chinese:'))"
   ]
  }
 ],
 "metadata": {},
 "nbformat": 4,
 "nbformat_minor": 5
}
