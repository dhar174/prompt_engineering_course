{
 "cells": [
  {
   "cell_type": "markdown",
   "id": "bfdd741e",
   "metadata": {},
   "source": [
    "# Multilingual & Cross‑Lingual Prompting Lab\n",
    "We use **mT5‑base** to translate and answer questions in three languages."
   ]
  },
  {
   "cell_type": "markdown",
   "id": "dd69b53c",
   "metadata": {},
   "source": [
    "## 1. Install & load"
   ]
  },
  {
   "cell_type": "code",
   "execution_count": null,
   "id": "add3b0bb",
   "metadata": {},
   "outputs": [],
   "source": [
    "!pip -q install --upgrade transformers sentencepiece\n",
    "from transformers import AutoTokenizer, AutoModelForSeq2SeqLM\n",
    "model_name='google/mt5-base'\n",
    "tok=AutoTokenizer.from_pretrained(model_name)\n",
    "model=AutoModelForSeq2SeqLM.from_pretrained(model_name)\n"
   ]
  },
  {
   "cell_type": "markdown",
   "id": "3e36d9ee",
   "metadata": {},
   "source": [
    "## 2. Helper to generate"
   ]
  },
  {
   "cell_type": "code",
   "execution_count": null,
   "id": "5ceafeb4",
   "metadata": {},
   "outputs": [],
   "source": [
    "def generate(prompt, lang_tag='<extra_id_0>'):\n",
    "    input_ids=tok.encode(prompt, return_tensors='pt')\n",
    "    out=model.generate(input_ids, max_new_tokens=64)\n",
    "    return tok.decode(out[0], skip_special_tokens=True)\n"
   ]
  },
  {
   "cell_type": "markdown",
   "id": "8f63d755",
   "metadata": {},
   "source": [
    "### Task: Summarise a news headline in three languages"
   ]
  },
  {
   "cell_type": "code",
   "execution_count": null,
   "id": "dfcb986f",
   "metadata": {},
   "outputs": [],
   "source": [
    "headline='Scientists discover a new exoplanet resembling Earth.'\n",
    "for lang,tag in [('English',''),('Spanish','translate English to Spanish: '),('Chinese','translate English to Chinese: ')]:\n",
    "    print(lang, generate(tag+headline))"
   ]
  },
  {
   "cell_type": "markdown",
   "id": "7a36f7fe",
   "metadata": {},
   "source": [
    "## 3. Cross‑lingual Q&A\n",
    "Ask in English, answer in German."
   ]
  },
  {
   "cell_type": "code",
   "execution_count": null,
   "id": "055d6938",
   "metadata": {},
   "outputs": [],
   "source": [
    "q='When was the Great Wall of China built?'\n",
    "prompt=f'translate English to German: Beantworte die Frage: {q}'\n",
    "print(generate(prompt))"
   ]
  },
  {
   "cell_type": "markdown",
   "id": "309fc06f",
   "metadata": {},
   "source": [
    "### Exercise\n",
    "1. Craft a *single* prompt template that detects input language and responds in that language.\n",
    "2. Evaluate fluency with BLEU or COMET (advanced)."
   ]
  }
 ],
 "metadata": {},
 "nbformat": 4,
 "nbformat_minor": 5
}
