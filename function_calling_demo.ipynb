{
  "cells": [
    {
      "cell_type": "markdown",
      "id": "4375ec1d",
      "metadata": {},
      "source": [
        "# Function‑Calling Demo\n",
        "Transform user intent into structured arguments and execute a Python function."
      ]
    },
    {
      "cell_type": "code",
      "execution_count": null,
      "id": "cd391ab6",
      "metadata": {},
      "outputs": [],
      "source": [
        "!pip -q install openai ipywidgets"
      ]
    },
    {
      "cell_type": "markdown",
      "id": "bbdbaa20-a93f-42b3-a00f-e613aebc0572",
      "metadata": {},
      "source": [
        "OpenAI's function calling feature allows you to define functions that the model can invoke to return structured results.\n",
        "This example demonstrates how to provide a function schema and let ChatGPT automatically call it."
      ]
    },
    {
      "cell_type": "code",
      "execution_count": null,
      "id": "0cd37953",
      "metadata": {},
      "outputs": [],
      "source": [
        "import os, openai, json, datetime, ipywidgets as w\n",
        "from IPython.display import display, Markdown\n",
        "os.environ['OPENAI_API_KEY'] = os.getenv('OPENAI_API_KEY', 'sk-')\n",
        "\n",
        "def schedule_meeting(date:str, time:str, topic:str):\n",
        "    dt = datetime.datetime.strptime(f'{date} {time}', '%Y-%m-%d %H:%M')\n",
        "    return f\"📅 '{topic}' on {dt.strftime('%A %b %d, %Y at %I:%M %p')}\" \n",
        "\n",
        "FUNC_SCHEMA=[{\n",
        " 'name':'schedule_meeting',\n",
        " 'description':'Schedule a meeting',\n",
        " 'parameters':{\n",
        "   'type':'object',\n",
        "   'properties':{\n",
        "       'date':{'type':'string'},\n",
        "       'time':{'type':'string'},\n",
        "       'topic':{'type':'string'}},\n",
        "   'required':['date','time','topic']}\n",
        "}]\n",
        "\n",
        "query=w.Text(value='Book a sync about budget next Monday at 14:30.',description='Query:')\n",
        "run_btn=w.Button(description='Run')\n",
        "out=w.Output()\n",
        "\n",
        "def run(_):\n",
        "    with out:\n",
        "        out.clear_output()\n",
        "        res=openai.ChatCompletion.create(model='gpt-4o-mini',\n",
        "            messages=[{'role':'user','content':query.value}],\n",
        "            functions=FUNC_SCHEMA,\n",
        "            temperature=0)\n",
        "        msg=res.choices[0].message\n",
        "        if msg.get('function_call'):\n",
        "            args=json.loads(msg.function_call.arguments)\n",
        "            display(Markdown('Args:\\n```json\\n'+json.dumps(args,indent=2)+'\\n```'))\n",
        "            display(Markdown('Result: '+schedule_meeting(**args)))\n",
        "        else:\n",
        "            print('No function call.')\n",
        "run_btn.on_click(run)\n",
        "display(w.VBox([query, run_btn, out]))"
      ]
    }
  ],
  "metadata": {},
  "nbformat": 4,
  "nbformat_minor": 5
}
