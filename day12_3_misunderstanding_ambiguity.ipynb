{
 "cells": [
  {
   "cell_type": "markdown",
   "id": "91b49a59",
   "metadata": {},
   "source": [
    "\n",
    "# Day 12 · Notebook 3 — Misunderstanding & Ambiguity Lab  (Concept #95)\n",
    "\n",
    "## Five Common Failure Modes\n",
    "1. **Pronoun ambiguity** (“it”, “they”)  \n",
    "2. **Unstated assumptions** (domain knowledge gaps)  \n",
    "3. **Overloaded instructions** (multiple tasks in one)  \n",
    "4. **Vocabulary mismatch** (jargon vs lay terms)  \n",
    "5. **Cultural/locale assumptions**\n",
    "\n",
    "We’ll debug prompts using the classic *rubber‑duck* method: articulate what you *expect* aloud (or in comments) before asking the model.\n"
   ]
  },
  {
   "cell_type": "code",
   "execution_count": null,
   "id": "47941752",
   "metadata": {},
   "outputs": [],
   "source": [
    "\n",
    "from typing import List\n",
    "import openai, os\n",
    "\n",
    "MODEL = os.getenv(\"OPENAI_MODEL\", \"gpt-4o-mini\")\n",
    "\n",
    "def ask(prompt: str) -> str:\n",
    "    resp = openai.ChatCompletion.create(\n",
    "        model=MODEL,\n",
    "        messages=[{\"role\": \"user\", \"content\": prompt}],\n",
    "        temperature=0.7,\n",
    "        max_tokens=128,\n",
    "    )\n",
    "    return resp.choices[0].message.content.strip()\n",
    "\n",
    "candidate = \"Summarize why the battery died and how to fix it.\"\n",
    "print(\"ORIGINAL:\", ask(candidate))\n",
    "\n",
    "improved = (\n",
    "    \"You are an automotive technician. \"\n",
    "    \"First diagnose probable causes of a dead car battery (max 3 bullet points). \"\n",
    "    \"Then propose one step‑by‑step fix in plain English, 6th‑grade reading level.\"\n",
    ")\n",
    "print(\"\\nIMPROVED:\", ask(improved))\n"
   ]
  },
  {
   "cell_type": "markdown",
   "id": "5fdd860c",
   "metadata": {},
   "source": [
    "\n",
    "**Task:** Pick one of your own prompts. Identify at least two ambiguity sources and rewrite the prompt to eliminate them. Compare outputs.\n"
   ]
  }
 ],
 "metadata": {
  "colab": {
   "name": "day12_3_misunderstanding_ambiguity.ipynb"
  }
 },
 "nbformat": 4,
 "nbformat_minor": 5
}
