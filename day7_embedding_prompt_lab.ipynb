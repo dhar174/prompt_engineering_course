{
 "cells": [
  {
   "cell_type": "markdown",
   "id": "00bc7d0a",
   "metadata": {},
   "source": [
    "# Embedding‑Based Retrieval Prompt Lab\n",
    "Goal: build a mini *Retrieval‑Augmented Generation* pipeline **inside one prompt**.\n",
    "We will:\n",
    "1. Create an in‑memory FAISS index of short docs.\n",
    "2. Embed user question & retrieve top‑k context.\n",
    "3. Compose an *augmented prompt* fed to an open model.\n",
    "4. Measure answer quality with and without retrieval."
   ]
  },
  {
   "cell_type": "markdown",
   "id": "cc19675d",
   "metadata": {},
   "source": [
    "## 1. Install & import"
   ]
  },
  {
   "cell_type": "code",
   "execution_count": null,
   "id": "f8d11a1c",
   "metadata": {},
   "outputs": [],
   "source": [
    "!pip -q install --upgrade sentence-transformers faiss-cpu transformers"
   ]
  },
  {
   "cell_type": "markdown",
   "id": "8025e31c",
   "metadata": {},
   "source": [
    "## 2. Toy knowledge base"
   ]
  },
  {
   "cell_type": "code",
   "execution_count": null,
   "id": "798abeae",
   "metadata": {},
   "outputs": [],
   "source": [
    "documents=[\n",
    "    {'id':0,'text':'The Eiffel Tower is located in Paris and was completed in 1889.'},\n",
    "    {'id':1,'text':'The capital of Japan is Tokyo.'},\n",
    "    {'id':2,'text':'Python is a popular programming language created by Guido van Rossum.'},\n",
    "    {'id':3,'text':'The mitochondrion is the powerhouse of the cell.'},\n",
    "]"
   ]
  },
  {
   "cell_type": "markdown",
   "id": "e80e0ab6",
   "metadata": {},
   "source": [
    "### Build vector index"
   ]
  },
  {
   "cell_type": "code",
   "execution_count": null,
   "id": "dc5b746b",
   "metadata": {},
   "outputs": [],
   "source": [
    "from sentence_transformers import SentenceTransformer\n",
    "import faiss, numpy as np\n",
    "\n",
    "embedder=SentenceTransformer('all-MiniLM-L6-v2')\n",
    "embs=np.vstack([embedder.encode(d['text']) for d in documents]).astype('float32')\n",
    "index=faiss.IndexFlatL2(embs.shape[1])\n",
    "index.add(embs)\n"
   ]
  },
  {
   "cell_type": "markdown",
   "id": "a80b3965",
   "metadata": {},
   "source": [
    "## 3. Retrieval helper"
   ]
  },
  {
   "cell_type": "code",
   "execution_count": null,
   "id": "17c05b3a",
   "metadata": {},
   "outputs": [],
   "source": [
    "def retrieve(query, k=2):\n",
    "    q_emb=embedder.encode([query]).astype('float32')\n",
    "    D,I=index.search(q_emb,k)\n",
    "    return [documents[i]['text'] for i in I[0]]\n"
   ]
  },
  {
   "cell_type": "markdown",
   "id": "1311f887",
   "metadata": {},
   "source": [
    "## 4. Compose augmented prompt"
   ]
  },
  {
   "cell_type": "code",
   "execution_count": null,
   "id": "0a0295b2",
   "metadata": {},
   "outputs": [],
   "source": [
    "from transformers import AutoModelForCausalLM, AutoTokenizer\n",
    "lm_name='gpt2'\n",
    "tok=AutoTokenizer.from_pretrained(lm_name)\n",
    "lm=AutoModelForCausalLM.from_pretrained(lm_name)\n",
    "\n",
    "def answer(question, use_retrieval=True):\n",
    "    context=''\\\n",
    "        .join([f'- {c}\\n' for c in retrieve(question)]) if use_retrieval else ''\n",
    "    prompt=(\n",
    "        'Answer the question as best you can.\\n'+\n",
    "        ('\\nContext:\\n'+context if use_retrieval else '')+\n",
    "        f'\\nQuestion: {question}\\nAnswer:'\n",
    "    )\n",
    "    inp=tok(prompt, return_tensors='pt')\n",
    "    out=lm.generate(**inp, max_new_tokens=40)\n",
    "    ans=tok.decode(out[0], skip_special_tokens=True).split('Answer:')[-1]\n",
    "    return ans.strip()\n"
   ]
  },
  {
   "cell_type": "markdown",
   "id": "8187d2bb",
   "metadata": {},
   "source": [
    "## 5. Compare"
   ]
  },
  {
   "cell_type": "code",
   "execution_count": null,
   "id": "18878b75",
   "metadata": {},
   "outputs": [],
   "source": [
    "q='When was the Eiffel Tower finished?'\n",
    "print('Without retrieval:', answer(q, False))\n",
    "print('With retrieval:', answer(q, True))"
   ]
  },
  {
   "cell_type": "markdown",
   "id": "45e18b2c",
   "metadata": {},
   "source": [
    "### Exercise\n",
    "1. Add more docs & try *top‑k=3*.\n",
    "2. Swap the encoder (e.g., `sentence-transformers/all-mpnet-base-v2`).\n",
    "3. Measure exact match accuracy across 10 trivia questions."
   ]
  }
 ],
 "metadata": {},
 "nbformat": 4,
 "nbformat_minor": 5
}
