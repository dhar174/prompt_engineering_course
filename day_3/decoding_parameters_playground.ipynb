{
 "cells": [
  {
   "cell_type": "markdown",
   "id": "01483ebb",
   "metadata": {},
   "source": [
    "# Decoding Parameters Playground\n",
    "Interactively explore **temperature**, **top‑p**, and **presence/frequency penalties** to see their effect on model output."
   ]
  },
  {
   "cell_type": "code",
   "execution_count": null,
   "id": "e596035f",
   "metadata": {},
   "outputs": [],
   "source": [
    "!pip -q install openai ipywidgets\n",
    "import os, ipywidgets as w\n",
    "from openai import OpenAI\n",
    "from IPython.display import display, Markdown\n",
    "\n",
    "client = OpenAI(api_key=os.getenv('OPENAI_API_KEY', 'sk‑YOUR_KEY_HERE'))\n",
    "\n",
    "prompt_box = w.Textarea(value='Write a short sci‑fi scene about robots and tea.',\n",
    "                         description='Prompt:',\n",
    "                         layout=w.Layout(width='100%', height='100px'))\n",
    "\n",
    "temp_slider = w.FloatSlider(value=0.7, min=0.0, max=1.5, step=0.1, description='Temperature')\n",
    "top_p_slider = w.FloatSlider(value=1.0, min=0.1, max=1.0, step=0.05, description='Top‑p')\n",
    "pp_slider = w.FloatSlider(value=0.0, min=-2.0, max=2.0, step=0.1, description='Presence Penalty')\n",
    "fp_slider = w.FloatSlider(value=0.0, min=-2.0, max=2.0, step=0.1, description='Frequency Penalty')\n",
    "\n",
    "run_btn = w.Button(description='Run 👉')\n",
    "\n",
    "output_area = w.Output()\n",
    "\n",
    "def run_generation(b):\n",
    "    with output_area:\n",
    "        output_area.clear_output()\n",
    "        try:\n",
    "            response = client.chat.completions.create(\n",
    "                model='gpt-4o-mini',\n",
    "                messages=[{'role':'user','content': prompt_box.value}],\n",
    "                temperature=temp_slider.value,\n",
    "                top_p=top_p_slider.value,\n",
    "                presence_penalty=pp_slider.value,\n",
    "                frequency_penalty=fp_slider.value,\n",
    "                max_tokens=200\n",
    "            )\n",
    "            display(Markdown(response.choices[0].message.content))\n",
    "        except Exception as e:\n",
    "            print('Error:', e)\n",
    "\n",
    "run_btn.on_click(run_generation)\n",
    "ui = w.VBox([prompt_box, temp_slider, top_p_slider, pp_slider, fp_slider, run_btn, output_area])\n",
    "display(ui)\n",
    "print('Adjust sliders then click **Run 👉**')"
   ]
  },
  {
   "cell_type": "markdown",
   "id": "3682f155",
   "metadata": {},
   "source": [
    "---\n",
    "### Suggested Experiments\n",
    "1. Set temperature to `0` and observe determinism.\n",
    "2. Lower `top‑p` to 0.3 for conservative outputs.\n",
    "3. Increase presence penalty to encourage novel topics."
   ]
  }
 ],
 "metadata": {},
 "nbformat": 4,
 "nbformat_minor": 5
}
