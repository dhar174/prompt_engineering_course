{
 "cells": [
  {
   "cell_type": "markdown",
   "id": "47fd4a99",
   "metadata": {},
   "source": [
    "# Prompt Versioning Tracker\n",
    "Log each prompt iteration with parameters, outcome, and notes. Save locally as **prompt_versions.csv** or push to Google Sheets."
   ]
  },
  {
   "cell_type": "code",
   "execution_count": null,
   "id": "dda107fc",
   "metadata": {},
   "outputs": [],
   "source": [
    "!pip -q install pandas gspread oauth2client"
   ]
  },
  {
   "cell_type": "code",
   "execution_count": null,
   "id": "b7ce9c23",
   "metadata": {},
   "outputs": [],
   "source": [
    "import pandas as pd, datetime, json\n",
    "from pathlib import Path\n",
    "\n",
    "LOG_PATH = Path(\"prompt_versions.csv\")\n",
    "\n",
    "# Load existing log or create empty DataFrame\n",
    "if LOG_PATH.exists():\n",
    "    df = pd.read_csv(LOG_PATH)\n",
    "else:\n",
    "    df = pd.DataFrame(columns=[\n",
    "        \"timestamp\", \"prompt_name\", \"version\",\n",
    "        \"prompt_text\", \"parameters\", \"outcome\", \"notes\"\n",
    "    ])\n",
    "\n",
    "def log_prompt(prompt_name: str,\n",
    "               version: str,\n",
    "               prompt_text: str,\n",
    "               parameters: dict,\n",
    "               outcome: str,\n",
    "               notes: str = \"\") -> None:\n",
    "    \"\"\"\n",
    "    Append a prompt run to the log.\n",
    "    outcome: e.g., 'success', 'failure', 'bug', 'needs‑review'\n",
    "    \"\"\"\n",
    "    global df\n",
    "    entry = {\n",
    "        \"timestamp\": datetime.datetime.utcnow().isoformat(timespec=\"seconds\"),\n",
    "        \"prompt_name\": prompt_name,\n",
    "        \"version\": version,\n",
    "        \"prompt_text\": prompt_text,\n",
    "        \"parameters\": json.dumps(parameters),\n",
    "        \"outcome\": outcome,\n",
    "        \"notes\": notes\n",
    "    }\n",
    "    df = pd.concat([df, pd.DataFrame([entry])], ignore_index=True)\n",
    "    df.to_csv(LOG_PATH, index=False)\n",
    "    print(f\"Logged {prompt_name} v{version} → {outcome}\")\n",
    "\n",
    "print(\"▶️ Use log_prompt(name, version, text, params_dict, outcome, notes)\")\n",
    "print(\"Example:\")\n",
    "example = {\n",
    "    \"name\": \"email_summarizer\",\n",
    "    \"version\": \"0.1\",\n",
    "    \"text\": \"Summarize the following email ...\",\n",
    "    \"params\": {\"temperature\": 0.3},\n",
    "    \"outcome\": \"success\",\n",
    "    \"notes\": \"Initial baseline\"\n",
    "}\n",
    "print(json.dumps(example, indent=2))\n",
    "\n",
    "display(df.head())"
   ]
  },
  {
   "cell_type": "markdown",
   "id": "3e5b0583",
   "metadata": {},
   "source": [
    "### Google Sheets Sync (optional)\n",
    "```python\n",
    "import gspread\n",
    "from oauth2client.service_account import ServiceAccountCredentials\n",
    "\n",
    "creds_json = 'path/to/credentials.json'\n",
    "scope = ['https://spreadsheets.google.com/feeds',\n",
    "         'https://www.googleapis.com/auth/drive']\n",
    "creds = ServiceAccountCredentials.from_json_keyfile_name(creds_json, scope)\n",
    "client = gspread.authorize(creds)\n",
    "sheet = client.open('PromptVersions').sheet1\n",
    "sheet.append_row(list(df.iloc[-1]))\n",
    "```"
   ]
  }
 ],
 "metadata": {},
 "nbformat": 4,
 "nbformat_minor": 5
}
