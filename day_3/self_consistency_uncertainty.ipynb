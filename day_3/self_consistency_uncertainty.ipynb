{
 "cells": [
  {
   "cell_type": "markdown",
   "id": "34d2a961",
   "metadata": {},
   "source": [
    "# Self‑Consistency & Uncertainty Calibration  \n",
    "Generate multiple completions, perform majority‑vote (self‑consistency), and prompt the model for confidence scores."
   ]
  },
  {
   "cell_type": "code",
   "execution_count": null,
   "id": "e2295e40",
   "metadata": {},
   "outputs": [],
   "source": [
    "!pip -q install openai pandas ipywidgets textstat"
   ]
  },
  {
   "cell_type": "code",
   "execution_count": null,
   "id": "1424e520",
   "metadata": {},
   "outputs": [],
   "source": [
    "import os, openai, pandas as pd, ipywidgets as w\n",
    "from collections import Counter\n",
    "from IPython.display import display, Markdown\n",
    "os.environ['OPENAI_API_KEY'] = os.getenv('OPENAI_API_KEY', 'sk-')\n",
    "\n",
    "prompt_box = w.Textarea(\n",
    "    value='What is 17 * 23? Think step‑by‑step.',\n",
    "    layout=w.Layout(width='100%', height='60px'), description='Prompt:')\n",
    "\n",
    "n_runs = w.IntSlider(value=5, min=2, max=10, step=1, description='Runs (n):')\n",
    "temperature = w.FloatSlider(value=0.7, min=0, max=2, step=0.1, description='Temp')\n",
    "run_btn = w.Button(description='Generate n Completions')\n",
    "out = w.Output()\n",
    "\n",
    "def majority_vote(answers):\n",
    "    return Counter(answers).most_common(1)[0]\n",
    "\n",
    "def run_sc(_):\n",
    "    with out:\n",
    "        out.clear_output()\n",
    "        completions = []\n",
    "        for i in range(n_runs.value):\n",
    "            resp = openai.ChatCompletion.create(\n",
    "                model='gpt-4o-mini',\n",
    "                messages=[{'role':'user','content': prompt_box.value}],\n",
    "                temperature=temperature.value,\n",
    "                max_tokens=128\n",
    "            )\n",
    "            completions.append(resp.choices[0].message.content.strip())\n",
    "        df = pd.DataFrame({'completion': completions})\n",
    "        display(df)\n",
    "        winner, count = majority_vote(completions)\n",
    "        print(f\"🏆 Majority answer ({count}/{n_runs.value}):\n",
    "{winner}\")\n",
    "\n",
    "run_btn.on_click(run_sc)\n",
    "display(w.VBox([prompt_box, n_runs, temperature, run_btn, out]))"
   ]
  },
  {
   "cell_type": "markdown",
   "id": "41956aba",
   "metadata": {},
   "source": [
    "## Prompting for Confidence / Uncertainty  \n",
    "Try adding: `\"Rate your confidence 0–100 then answer:\"` to the prompt, and check how scores vary."
   ]
  }
 ],
 "metadata": {},
 "nbformat": 4,
 "nbformat_minor": 5
}
