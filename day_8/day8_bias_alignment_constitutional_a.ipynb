{
 "cells": [
  {
   "cell_type": "markdown",
   "id": "f4ca5b23",
   "metadata": {},
   "source": [
    "# Bias Mitigation & Constitutional AI Lab\n",
    "**Objective:** Apply bias-reduction and constitutional alignment techniques.\n"
   ]
  },
  {
   "cell_type": "markdown",
   "id": "21a79fb6",
   "metadata": {},
   "source": [
    "## 1. Install & setup"
   ]
  },
  {
   "cell_type": "code",
   "execution_count": null,
   "id": "a656e302",
   "metadata": {},
   "outputs": [],
   "source": [
    "!pip -q install openai"
   ]
  },
  {
   "cell_type": "code",
   "execution_count": null,
   "id": "f8391884",
   "metadata": {},
   "outputs": [],
   "source": [
    "import os\n",
    "from openai import OpenAI\n",
    "client = OpenAI(api_key=os.getenv('OPENAI_API_KEY'))"
   ]
  },
  {
   "cell_type": "markdown",
   "id": "a90a495b",
   "metadata": {},
   "source": [
    "## 2. Bias-mitigation prompting"
   ]
  },
  {
   "cell_type": "code",
   "execution_count": null,
   "id": "a556380b",
   "metadata": {},
   "outputs": [],
   "source": [
    "def bias_reduced_chat(prompt):\n",
    "    bias_prefix = ('You are an unbiased assistant. ' \n",
    "                   'Avoid stereotypes and provide fair perspectives. ')\n",
    "    messages = [\n",
    "        {'role':'system', 'content': bias_prefix},\n",
    "        {'role':'user', 'content': prompt}\n",
    "    ]\n",
    "    return client.chat.completions.create(model='gpt-3.5-turbo', messages=messages).choices[0].message.content\n"
   ]
  },
  {
   "cell_type": "markdown",
   "id": "d85a2c7a",
   "metadata": {},
   "source": [
    "## 3. Constitutional AI alignment"
   ]
  },
  {
   "cell_type": "code",
   "execution_count": null,
   "id": "7da13796",
   "metadata": {},
   "outputs": [],
   "source": [
    "constitution = (\n",
    "    'You are an AI assistant that must follow these principles:\\n'\n",
    "    '1. Be helpful, honest, and harmless.\\n'\n",
    "    '2. Do not produce hateful or biased content.\\n'\n",
    "    '3. Explain your reasoning when asked.\\n'\n",
    ")\n",
    "def constitutional_chat(user_input):\n",
    "    messages = [\n",
    "        {'role':'system', 'content': constitution},\n",
    "        {'role':'user', 'content': user_input}\n",
    "    ]\n",
    "    return client.chat.completions.create(model='gpt-3.5-turbo', messages=messages).choices[0].message.content\n"
   ]
  },
  {
   "cell_type": "markdown",
   "id": "5ccbde90",
   "metadata": {},
   "source": [
    "## 4. Transparency & explainability"
   ]
  },
  {
   "cell_type": "code",
   "execution_count": null,
   "id": "a87e8d1c",
   "metadata": {},
   "outputs": [],
   "source": [
    "def transparent_chat(prompt):\n",
    "    msg = prompt + '\\nPlease explain step by step how you arrived here.'\n",
    "    return constitutional_chat(msg)\n"
   ]
  },
  {
   "cell_type": "markdown",
   "id": "38b13db3",
   "metadata": {},
   "source": [
    "### Mini-Exercise:\n",
    "- Write a transparency prompt for hiring/admissions.\n",
    "- Test and compare responses."
   ]
  }
 ],
 "metadata": {},
 "nbformat": 4,
 "nbformat_minor": 5
}
