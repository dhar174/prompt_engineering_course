{
 "cells": [
  {
   "cell_type": "markdown",
   "id": "4e80195b",
   "metadata": {},
   "source": [
    "# Privacy, Consent & Regulatory Compliance Lab\n",
    "**Objective:** Build prompts that handle PII, consent, and regulatory rules.\n"
   ]
  },
  {
   "cell_type": "markdown",
   "id": "ba7a911f",
   "metadata": {},
   "source": [
    "## 1. Install & imports"
   ]
  },
  {
   "cell_type": "code",
   "execution_count": null,
   "id": "5a9300ac",
   "metadata": {},
   "outputs": [],
   "source": [
    "!pip -q install openai"
   ]
  },
  {
   "cell_type": "code",
   "execution_count": null,
   "id": "e01c3ea6",
   "metadata": {},
   "outputs": [],
   "source": [
    "import os\n",
    "from openai import OpenAI\n",
    "client = OpenAI(api_key=os.getenv('OPENAI_API_KEY'))"
   ]
  },
  {
   "cell_type": "markdown",
   "id": "0353bd4f",
   "metadata": {},
   "source": [
    "## 2. Consent-gated prompt wrapper"
   ]
  },
  {
   "cell_type": "code",
   "execution_count": null,
   "id": "112e622c",
   "metadata": {},
   "outputs": [],
   "source": [
    "def consented_chat(system_prompt, user_input, consent=False):\n",
    "    if not consent:\n",
    "        return '⚠️ User consent required.'\n",
    "    messages=[{'role':'system','content':system_prompt},{'role':'user','content':user_input}]\n",
    "    return client.chat.completions.create(model='gpt-3.5-turbo', messages=messages).choices[0].message.content\n"
   ]
  },
  {
   "cell_type": "markdown",
   "id": "fd9f4338",
   "metadata": {},
   "source": [
    "## 3. Regulatory compliance pattern (EU AI Act)"
   ]
  },
  {
   "cell_type": "code",
   "execution_count": null,
   "id": "2143df7a",
   "metadata": {},
   "outputs": [],
   "source": [
    "eu_act = ('Ensure outputs comply with EU AI Act: transparency, fairness, ' \n",
    "          'and human oversight for high-risk tasks.')\n",
    "def compliant_chat(user_input):\n",
    "    messages=[{'role':'system','content':eu_act},{'role':'user','content':user_input}]\n",
    "    return client.chat.completions.create(model='gpt-3.5-turbo', messages=messages).choices[0].message.content\n"
   ]
  },
  {
   "cell_type": "markdown",
   "id": "ac206b29",
   "metadata": {},
   "source": [
    "### Lab Tasks:\n",
    "1. Simulate PII request (e.g. SSN) and enforce consent.\n",
    "2. Build a prompt that refuses unlicensed medical advice.\n",
    "3. Document compliance decisions."
   ]
  }
 ],
 "metadata": {},
 "nbformat": 4,
 "nbformat_minor": 5
}
