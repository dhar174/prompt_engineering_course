{
 "cells": [
  {
   "cell_type": "markdown",
   "id": "f8b714bd",
   "metadata": {},
   "source": [
    "# 🤖 ReAct & Plan‑then‑Act **Validation Pipeline**  \n",
    "*Day 5 – Advanced Reasoning Notebook*\n",
    "\n",
    "Learn to build *reliable* agent pipelines that:\n",
    "\n",
    "1. **Plan** a series of steps  \n",
    "2. **Act** (call tools / APIs)  \n",
    "3. **Reflect & Validate** outputs  \n",
    "4. **Iterate** until success\n",
    "\n",
    "We combine **ReAct** (interleaved Thought/Action/Observation) with **Plan‑then‑Act** (think first, execute later) plus automatic self‑critique and retry loops."
   ]
  },
  {
   "cell_type": "markdown",
   "id": "5a1be867",
   "metadata": {},
   "source": [
    "---\n",
    "\n",
    "## 📚 Learning Path\n",
    "\n",
    "| Section | Concept | Hands‑On |\n",
    "|---------|---------|----------|\n",
    "| 0 | Setup & helper functions | Configure API key |\n",
    "| 1 | ReAct Quickstart | Toy calculator tool |\n",
    "| 2 | Plan‑then‑Act Pattern | Multi‑step research plan |\n",
    "| 3 | Validation Wrapper | Generate → Validate → Retry |\n",
    "| 4 | Reflexion Upgrade | Self‑critique & prompt improvement |\n",
    "| 5 | End‑to‑End Mini‑Agent | Query Wikipedia & cite answer |\n"
   ]
  },
  {
   "cell_type": "markdown",
   "id": "2a47805a",
   "metadata": {},
   "source": [
    "## 0️⃣ Setup"
   ]
  },
  {
   "cell_type": "code",
   "execution_count": null,
   "id": "97ec5299",
   "metadata": {},
   "outputs": [],
   "source": [
    "%pip -q install --upgrade openai wikipedia tiktoken\n",
    "import os, json, random, textwrap, re\n",
    "import openai, wikipedia\n",
    "openai.api_key = os.getenv(\"OPENAI_API_KEY\") or \"YOUR_API_KEY\"\n",
    "MODEL = \"gpt-4o-mini\"\n",
    "\n",
    "def chat(system, user, temperature=0.3, max_tokens=256, model=MODEL):\n",
    "    messages=[{\"role\":\"system\",\"content\":system},\n",
    "              {\"role\":\"user\",\"content\":user}]\n",
    "    resp=openai.ChatCompletion.create(model=model, messages=messages,\n",
    "                                      temperature=temperature,\n",
    "                                      max_tokens=max_tokens)\n",
    "    return resp.choices[0].message.content.strip()\n"
   ]
  },
  {
   "cell_type": "markdown",
   "id": "7ac127ce",
   "metadata": {},
   "source": [
    "---\n",
    "\n",
    "## 1️⃣ ReAct Quickstart\n",
    "\n",
    "ReAct prompts **interleave**:\n",
    "\n",
    "```\n",
    "Thought: reason about next step\n",
    "Action: tool(args)\n",
    "Observation: result of tool\n",
    "```\n",
    "\n",
    "Below we register a *calculator* tool and let the LLM solve a word‑math query."
   ]
  },
  {
   "cell_type": "code",
   "execution_count": null,
   "id": "f1b2fc68",
   "metadata": {},
   "outputs": [],
   "source": [
    "# --- Tool registry ---\n",
    "def calculator(expr):\n",
    "    try:\n",
    "        return str(eval(expr))\n",
    "    except Exception as e:\n",
    "        return f\"Error: {e}\"\n",
    "\n",
    "TOOLS = {\n",
    "    \"calculator\": calculator\n",
    "}\n",
    "\n",
    "def run_tool(line:str):\n",
    "    m=re.match(r\"([a-zA-Z_]+)\\((.*)\\)\", line.strip())\n",
    "    if not m: return \"Invalid tool syntax\"\n",
    "    name,args=m.group(1),m.group(2)\n",
    "    if name not in TOOLS: return \"Unknown tool\"\n",
    "    return TOOLS[name](args)\n",
    "\n",
    "# --- ReAct loop ---\n",
    "def react_agent(question, max_turns=5):\n",
    "    context = f\"Question: {question}\"\n",
    "    history=\"\"\n",
    "    for t in range(max_turns):\n",
    "        prompt = f\"\"\"You are a ReAct agent. Available tool: calculator(expr).\n",
    "Respond using steps:\n",
    "Thought: ...\n",
    "Action: ...\n",
    "Observation: ...\n",
    "(Stop with 'Answer: <final>').\n",
    "\n",
    "{history}\"\"\"\n",
    "        resp = chat(\"You are a helpful agent.\", prompt)\n",
    "        print(resp)\n",
    "        history += \"\\n\" + resp + \"\\n\"\n",
    "        # parse action\n",
    "        action_lines=[l for l in resp.splitlines() if l.startswith(\"Action:\")]\n",
    "        if not action_lines: break\n",
    "        cmd=action_lines[-1].replace(\"Action:\",\"\").strip()\n",
    "        obs=run_tool(cmd)\n",
    "        history += f\"Observation: {obs}\\n\"\n",
    "        if \"Answer:\" in resp: break\n",
    "    return history\n",
    "\n",
    "react_agent(\"What is (12+7)*3 - 5 ?\")\n"
   ]
  },
  {
   "cell_type": "markdown",
   "id": "70781844",
   "metadata": {},
   "source": [
    "#### 📝 Try‑it: Add a `sqrt(x)` function to the calculator tool."
   ]
  },
  {
   "cell_type": "markdown",
   "id": "7e474686",
   "metadata": {},
   "source": [
    "---\n",
    "\n",
    "## 2️⃣ Plan‑then‑Act\n",
    "\n",
    "Pattern:\n",
    "\n",
    "1. **Plan** (list numbered steps)  \n",
    "2. **Execute** each step with tools  \n",
    "3. Combine results for final answer\n"
   ]
  },
  {
   "cell_type": "code",
   "execution_count": null,
   "id": "82562ec8",
   "metadata": {},
   "outputs": [],
   "source": [
    "def plan_then_act(query):\n",
    "    # Step 1: model drafts a plan\n",
    "    plan = chat(\"You are good at planning.\",\n",
    "                f\"First list 3 numbered steps to answer: {query}\\nRespond ONLY with the plan.\")\n",
    "    print(\"Plan →\", plan, \"\\n\")\n",
    "\n",
    "    # Step 2: iterate over each step\n",
    "    aggregated_notes=[]\n",
    "    for step in re.findall(r\"\\d+\\. (.+)\", plan):\n",
    "        # naive tool choice: if numbers present → calculator\n",
    "        if re.search(r\"[0-9]\", step):\n",
    "            # extract expression between backticks if present\n",
    "            m=re.search(r\"`([^`]+)`\", step)\n",
    "            expr=m.group(1) if m else step\n",
    "            obs=calculator(expr)\n",
    "            aggregated_notes.append(f\"{step} → {obs}\")\n",
    "        else:\n",
    "            # fallback reasoning\n",
    "            obs=chat(\"You are knowledgeable.\", step)\n",
    "            aggregated_notes.append(f\"{step} → {obs}\")\n",
    "\n",
    "    # Step 3: summarize\n",
    "    final = chat(\"You are a summarizer.\",\n",
    "                 f\"Given these notes:\\n{aggregated_notes}\\nProvide the concise answer to '{query}'.\")\n",
    "    return final\n",
    "\n",
    "print(plan_then_act(\"How many seconds are there in 2.5 hours?\"))\n"
   ]
  },
  {
   "cell_type": "markdown",
   "id": "1f6ad7dc",
   "metadata": {},
   "source": [
    "---\n",
    "\n",
    "## 3️⃣ Validation Pipeline\n",
    "\n",
    "Wrap any generator (ReAct or Plan‑then‑Act) with a **generate→validate→retry** loop."
   ]
  },
  {
   "cell_type": "code",
   "execution_count": null,
   "id": "a2b1e924",
   "metadata": {},
   "outputs": [],
   "source": [
    "def validator(task, answer):\n",
    "    # simple: ask LLM to verify\n",
    "    judge = chat(\"You are a strict validator.\",\n",
    "                 f\"Task: {task}\\nAnswer: {answer}\\nIs it correct? Reply YES or NO and reason.\")\n",
    "    return judge.startswith(\"YES\")\n",
    "\n",
    "def generate_validate(generator_fn, task, max_attempts=3):\n",
    "    for attempt in range(1, max_attempts+1):\n",
    "        ans = generator_fn(task)\n",
    "        ok = validator(task, ans)\n",
    "        print(f\"Attempt {attempt}: {'✅' if ok else '❌'}\")\n",
    "        if ok: return ans\n",
    "    return ans  # return last even if failed\n",
    "\n",
    "generate_validate(plan_then_act, \"Convert 5 miles to kilometers (1 mile = 1.60934 km).\")\n"
   ]
  },
  {
   "cell_type": "markdown",
   "id": "e3eb0588",
   "metadata": {},
   "source": [
    "---\n",
    "\n",
    "## 4️⃣ Reflexion Upgrade\n",
    "\n",
    "If validation fails, ask the model to **critique** and improve its own plan before retrying."
   ]
  },
  {
   "cell_type": "code",
   "execution_count": null,
   "id": "c1a616ce",
   "metadata": {},
   "outputs": [],
   "source": [
    "def reflect_and_retry(task, rounds=2):\n",
    "    plan_prompt=\"\"\n",
    "\n",
    "    for r in range(rounds):\n",
    "        answer = plan_then_act(task) if r==0 else chat(\"You improve answers.\",\n",
    "                    f\"Previous attempt was incorrect. Critique: {critique}\\nRewrite a better answer.\")\n",
    "        if validator(task, answer):\n",
    "            print(\"Success after\", r+1, \"rounds.\")\n",
    "            return answer\n",
    "        critique = chat(\"You are a critical reviewer.\",\n",
    "                        f\"The answer '{answer}' is incorrect. Explain why and hint improvements.\")\n",
    "        print(\"Critique →\", critique[:200], \"...\")\n",
    "    return answer\n",
    "\n",
    "reflect_and_retry(\"What is the square root of 9801?\")\n"
   ]
  },
  {
   "cell_type": "markdown",
   "id": "ebf0d59e",
   "metadata": {},
   "source": [
    "---\n",
    "\n",
    "## 5️⃣ Mini Research Agent\n",
    "\n",
    "Tool: `wiki_search(query)` – returns first sentence from Wikipedia.  \n",
    "Agent: Plan‑then‑Act with validation that cites a source."
   ]
  },
  {
   "cell_type": "code",
   "execution_count": null,
   "id": "212304de",
   "metadata": {},
   "outputs": [],
   "source": [
    "def wiki_search(q):\n",
    "    try:\n",
    "        page=wikipedia.page(q, auto_suggest=False)\n",
    "    except:\n",
    "        page=wikipedia.search(q)\n",
    "        if page:\n",
    "            page=wikipedia.page(page[0])\n",
    "        else:\n",
    "            return \"Not found\"\n",
    "    return page.summary.split('.')[0] + '.'\n",
    "\n",
    "TOOLS['wiki_search']=wiki_search\n",
    "\n",
    "def research_agent(question):\n",
    "    plan = chat(\"You are a planning assistant.\",\n",
    "                f\"Break down into steps and decide when to call wiki_search. Use `wiki_search(\"topic\")` syntax.\")\n",
    "    notes=[]\n",
    "    for step in re.findall(r\"`wiki_search\\(\"([^\"]+)\"\\)`\", plan):\n",
    "        obs=wiki_search(step)\n",
    "        notes.append(obs)\n",
    "    answer=chat(\"You are a writer.\",\n",
    "                f\"Context: {' '.join(notes)}\\nAnswer the question '{question}' in two sentences and cite Wikipedia.\")\n",
    "    return answer\n",
    "\n",
    "print(generate_validate(research_agent, \"Who invented the World Wide Web?\"))\n"
   ]
  },
  {
   "cell_type": "markdown",
   "id": "c23ae151",
   "metadata": {},
   "source": [
    "---\n",
    "\n",
    "## 🔗 Further Reading\n",
    "\n",
    "* Yao et al., “ReAct: Synergizing Reasoning and Acting”, 2023  \n",
    "* Nakano et al., “Plan-and-Execute”, 2024  \n",
    "* Shinn et al., “Reflexion”, 2023  \n",
    "* OpenAI Cookbook – function-calling agents\n"
   ]
  }
 ],
 "metadata": {},
 "nbformat": 4,
 "nbformat_minor": 5
}
