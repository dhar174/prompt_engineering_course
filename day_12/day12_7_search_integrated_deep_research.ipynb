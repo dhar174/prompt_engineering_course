{
 "cells": [
  {
   "cell_type": "markdown",
   "id": "6a6e4058",
   "metadata": {},
   "source": [
    "\n",
    "# Day 12 · Notebook 7 — Search‑Integrated Deep Research  (Concept #154)\n",
    "\n",
    "Combine *retrieval* + *generation* for verifiable answers.\n"
   ]
  },
  {
   "cell_type": "code",
   "execution_count": null,
   "id": "4feddb36",
   "metadata": {},
   "outputs": [],
   "source": [
    "\n",
    "# !pip install -q duckduckgo-search langchain-community\n",
    "from duckduckgo_search import DDGS\n",
    "import openai, json, textwrap\n",
    "\n",
    "query = \"explain transformer attention mechanism concise\"\n",
    "with DDGS() as ddgs:\n",
    "    hits = list(ddgs.text(query, max_results=5))\n",
    "context = \"\\n\".join([h[\"body\"] for h in hits])\n",
    "\n",
    "prompt = textwrap.dedent(f\"\"\"\n",
    "Using the CONTEXT below, answer in two paragraphs and cite at least two sources by number.\n",
    "\n",
    "CONTEXT:\n",
    "{context}\n",
    "\"\"\")\n",
    "response = openai.ChatCompletion.create(\n",
    "    model=\"gpt-4o-mini\",\n",
    "    messages=[{\"role\":\"user\",\"content\": prompt}],\n",
    "    temperature=0,\n",
    "    max_tokens=300,\n",
    ").choices[0].message.content\n",
    "print(response)\n"
   ]
  },
  {
   "cell_type": "markdown",
   "id": "b424768b",
   "metadata": {},
   "source": [
    "\n",
    "**Exercise:** Swap `duckduckgo-search` for your favourite API (SerpAPI, Brave, Bing) and compare factual accuracy with/without retrieval.\n"
   ]
  }
 ],
 "metadata": {
  "colab": {
   "name": "day12_7_search_integrated_deep_research.ipynb"
  }
 },
 "nbformat": 4,
 "nbformat_minor": 5
}
