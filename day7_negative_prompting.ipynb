{
 "cells": [
  {
   "cell_type": "markdown",
   "id": "c603cd12",
   "metadata": {},
   "source": [
    "# Negative Prompting & Textual Inversion with Diffusers\n",
    "This Colab shows how to:\n",
    "1. Use **negative prompts** to steer *Stable Diffusion XL* away from unwanted artefacts.\n",
    "2. Train a **textual inversion** concept embedding for a new style.\n"
   ]
  },
  {
   "cell_type": "markdown",
   "id": "2119897e",
   "metadata": {},
   "source": [
    "## 1. Install SDXL & diffusers (takes ~2 min on Colab T4)"
   ]
  },
  {
   "cell_type": "code",
   "execution_count": null,
   "id": "222d7d48",
   "metadata": {},
   "outputs": [],
   "source": [
    "!pip -q install --upgrade diffusers accelerate transformers safetensors\n",
    "import torch, random, os\n",
    "from diffusers import StableDiffusionXLPipeline, TextualInversionLoaderMixin\n",
    "pipe = StableDiffusionXLPipeline.from_pretrained('stabilityai/stable-diffusion-xl-base-1.0', torch_dtype=torch.float16, variant='fp16').to('cuda')\n"
   ]
  },
  {
   "cell_type": "markdown",
   "id": "43b33ed0",
   "metadata": {},
   "source": [
    "## 2. Basic generation"
   ]
  },
  {
   "cell_type": "code",
   "execution_count": null,
   "id": "1a4a0faa",
   "metadata": {},
   "outputs": [],
   "source": [
    "prompt='A photo of a cute corgi wearing sunglasses, 4k' \n",
    "neg_prompt='bad anatomy, low resolution, blurry' \n",
    "image = pipe(prompt, negative_prompt=neg_prompt, num_inference_steps=30).images[0]\n",
    "image"
   ]
  },
  {
   "cell_type": "markdown",
   "id": "60c02d95",
   "metadata": {},
   "source": [
    "Notice how the negative prompt removes common SD artefacts."
   ]
  },
  {
   "cell_type": "markdown",
   "id": "c638aa58",
   "metadata": {},
   "source": [
    "## 3. Textual Inversion (tiny demo – 5 steps)"
   ]
  },
  {
   "cell_type": "code",
   "execution_count": null,
   "id": "6e5a558c",
   "metadata": {},
   "outputs": [],
   "source": [
    "# Load 4 example images of a new pattern (polka‑dot glass orb)\n",
    "from diffusers import TextualInversionPipeline\n",
    "ti_pipe = TextualInversionPipeline.from_pretrained(pipe)\n",
    "images=['https://huggingface.co/datasets/diffusers/diffusers-images-docs/resolve/main/polka1.png',\n",
    "        'https://huggingface.co/datasets/diffusers/diffusers-images-docs/resolve/main/polka2.png']\n",
    "learned_embed, _ = ti_pipe.learn_new_concept(images, 'polka_orb', num_steps=5)\n",
    "\n",
    "pipe.textual_inversion = learned_embed\n",
    "pipe('A portrait of a cat holding a <polka_orb>', num_inference_steps=30).images[0]"
   ]
  },
  {
   "cell_type": "markdown",
   "id": "20eaf3d2",
   "metadata": {},
   "source": [
    "### Exercise\n",
    "1. Tweak `num_inference_steps`, `guidance_scale`.\n",
    "2. Train your own concept on 5‑10 images and share in class."
   ]
  }
 ],
 "metadata": {},
 "nbformat": 4,
 "nbformat_minor": 5
}
