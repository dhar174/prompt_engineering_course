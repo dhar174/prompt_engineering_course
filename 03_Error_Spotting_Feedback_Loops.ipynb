{
 "cells": [
  {
   "cell_type": "markdown",
   "id": "7bbd343f",
   "metadata": {},
   "source": [
    "# Lab 3 – Error‑Spotting & Self‑Feedback"
   ]
  },
  {
   "cell_type": "markdown",
   "id": "ff7f8628",
   "metadata": {},
   "source": [
    "### Learning Objectives\n",
    "* Prompt the LLM to critique **its own** answer.\n",
    "* Chain a self‑correction loop until quality thresholds pass."
   ]
  },
  {
   "cell_type": "markdown",
   "id": "4ef20f88",
   "metadata": {},
   "source": [
    "# Lab 3 – Building Self‑Correcting Loops"
   ]
  },
  {
   "cell_type": "code",
   "execution_count": null,
   "id": "34e2006b",
   "metadata": {},
   "outputs": [],
   "source": [
    "!pip -q install openai --progress-bar off\n",
    "import openai, getpass, json, time, pprint, os\n",
    "\n",
    "openai.api_key = os.getenv(\"OPENAI_API_KEY\") or getpass.getpass()\n",
    "\n",
    "QUESTION = \"List three capital cities in South America.\"\n",
    "EVAL_TEMPLATE = \"\"\"Evaluate the answer strictly for factual accuracy. \n",
    "Respond with JSON: {{\"valid\": true/false, \"issues\": [], \"fixed_answer\": \"\"}}.\"\"\"\n",
    "\n",
    "def iterate(question, max_loops=3):\n",
    "    answer = None\n",
    "    for i in range(max_loops):\n",
    "        answer = openai.ChatCompletion.create(\n",
    "            model=\"gpt-4o-mini\",\n",
    "            messages=[{\"role\":\"user\",\"content\":question}]).choices[0].message.content\n",
    "\n",
    "        review = openai.ChatCompletion.create(\n",
    "            model=\"gpt-4o-mini\",\n",
    "            messages=[{\"role\":\"user\",\"content\":EVAL_TEMPLATE+\"\\n\\nAnswer:\\n\"+answer}]).choices[0].message.content\n",
    "        data = json.loads(review)\n",
    "        if data[\"valid\"]:\n",
    "            return data[\"fixed_answer\"] or answer\n",
    "        else:\n",
    "            question = data[\"issues\"][0] + \" Please try again.\"\n",
    "    return answer\n",
    "\n",
    "print(iterate(QUESTION))"
   ]
  },
  {
   "cell_type": "markdown",
   "id": "e603d586",
   "metadata": {},
   "source": [
    "### Discussion\n",
    "\n",
    "* How many loops before diminishing returns?  \n",
    "* Where would you insert a **human reviewer**?"
   ]
  }
 ],
 "metadata": {},
 "nbformat": 4,
 "nbformat_minor": 5
}
