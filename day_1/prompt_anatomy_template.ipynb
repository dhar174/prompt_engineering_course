{
 "cells": [
  {
   "cell_type": "markdown",
   "id": "dae31dc6",
   "metadata": {},
   "source": [
    "# Prompt Anatomy Template\n",
    "Create modular, well‑structured prompts using **System / User / Assistant** roles and placeholders."
   ]
  },
  {
   "cell_type": "code",
   "execution_count": null,
   "id": "410fe7fd",
   "metadata": {},
   "outputs": [],
   "source": [
    "!pip -q install jinja2 openai\n",
    "import os, openai, json, textwrap\n",
    "from jinja2 import Template\n",
    "\n",
    "# 🔑  Set your key for OpenAI calls (or skip if using a local model)\n",
    "os.environ['OPENAI_API_KEY'] = 'sk‑YOUR_KEY_HERE'\n",
    "\n",
    "SYSTEM_TMPL = '''\n",
    "{{system}}\n",
    "'''"
   ]
  },
  {
   "cell_type": "markdown",
   "id": "5fa70267",
   "metadata": {},
   "source": [
    "## 📝  Build a prompt with placeholders"
   ]
  },
  {
   "cell_type": "code",
   "execution_count": null,
   "id": "beaace08",
   "metadata": {},
   "outputs": [],
   "source": [
    "prompt_tmpl = Template('''\n",
    "{{system}}\n",
    "\n",
    "USER: {{user_input}}\n",
    "ASSISTANT (rules): {{assistant_rules}}\n",
    "''')\n",
    "\n",
    "filled = prompt_tmpl.render(\n",
    "    system = \"You are a friendly expert tutor.\",\n",
    "    user_input = \"Explain black holes in 3 sentences.\",\n",
    "    assistant_rules = \"Answer in exactly 3 sentences, no jargon.\"\n",
    ")\n",
    "print(filled)"
   ]
  },
  {
   "cell_type": "markdown",
   "id": "6dcb1b4c",
   "metadata": {},
   "source": [
    "## 🚀  Send the prompt to the model"
   ]
  },
  {
   "cell_type": "code",
   "execution_count": null,
   "id": "b7ab291d",
   "metadata": {},
   "outputs": [],
   "source": [
    "response = openai.ChatCompletion.create(\n",
    "    model='gpt-4o-mini',\n",
    "    messages=[\n",
    "        {'role':'system','content':'You are a friendly expert tutor.'},\n",
    "        {'role':'user','content':'Explain black holes in 3 sentences.'},\n",
    "        {'role':'assistant','content':'(rules) Answer in exactly 3 sentences, no jargon.'}\n",
    "    ],\n",
    "    temperature=0.7,\n",
    "    max_tokens=128\n",
    ")\n",
    "print(response.choices[0].message.content)"
   ]
  },
  {
   "cell_type": "markdown",
   "id": "fb0e2c30",
   "metadata": {},
   "source": [
    "---\n",
    "### Exercises\n",
    "1. Create a persona (e.g., Shakespeare) and prompt it.\n",
    "2. Use placeholders to switch persona/context quickly.\n",
    "3. Add `<!-- comments -->` in prompt for readability; note they *count* toward tokens!"
   ]
  }
 ],
 "metadata": {},
 "nbformat": 4,
 "nbformat_minor": 5
}
