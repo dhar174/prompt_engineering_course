{
 "cells": [
  {
   "cell_type": "markdown",
   "metadata": {},
   "source": [
    "# Demo Notebooks\n",
    "\n",
    "List of demo notebooks in this repo. Open any link in Colab or run locally.\n"
   ]
  },
  {
   "cell_type": "markdown",
   "metadata": {},
   "source": [
    "- [LangGraph_Chatbot.ipynb](LangGraph_Chatbot.ipynb)\n",
    "- [chatbot_with_memory.ipynb](chatbot_with_memory.ipynb)\n",
    "- [decoding_parameters_playground.ipynb](decoding_parameters_playground.ipynb)\n",
    "- [decoding_strategies_playground.ipynb](decoding_strategies_playground.ipynb)\n",
    "- [function_calling_demo.ipynb](function_calling_demo.ipynb)\n",
    "- [modular_prompt_library_builder.ipynb](modular_prompt_library_builder.ipynb)\n",
    "- [pal_plan_act_pipeline.ipynb](pal_plan_act_pipeline.ipynb)\n",
    "- [persona_roleplay_workbench.ipynb](persona_roleplay_workbench.ipynb)\n",
    "- [prompt_anatomy_template.ipynb](prompt_anatomy_template.ipynb)\n",
    "- [prompt_versioning_failure_log.ipynb](prompt_versioning_failure_log.ipynb)\n",
    "- [prompt_versioning_tracker.ipynb](prompt_versioning_tracker.ipynb)\n",
    "- [self_consistency_uncertainty.ipynb](self_consistency_uncertainty.ipynb)\n",
    "- [shot_prompt_patterns.ipynb](shot_prompt_patterns.ipynb)\n",
    "- [structured_output_validation.ipynb](structured_output_validation.ipynb)\n",
    "- [tokenization_playground.ipynb](tokenization_playground.ipynb)\n",
    "- [day7_auto_prompt_opro.ipynb](day7_auto_prompt_opro.ipynb)\n",
    "- [day7_embedding_prompt_lab.ipynb](day7_embedding_prompt_lab.ipynb)\n",
    "- [day7_multilingual_lab.ipynb](day7_multilingual_lab.ipynb)\n",
    "- [day7_negative_prompting.ipynb](day7_negative_prompting.ipynb)\n",
    "- [day7_soft_prompt_tuning.ipynb](day7_soft_prompt_tuning.ipynb)\n",
    "- [day8_adversarial_robustness_logging.ipynb](day8_adversarial_robustness_logging.ipynb)\n",
    "- [day8_adversarial_robustness_logging_a.ipynb](day8_adversarial_robustness_logging_a.ipynb)\n",
    "- [day8_bias_alignment_constitutional.ipynb](day8_bias_alignment_constitutional.ipynb)\n",
    "- [day8_bias_alignment_constitutional_a.ipynb](day8_bias_alignment_constitutional_a.ipynb)\n",
    "- [day8_guardrails_moderation.ipynb](day8_guardrails_moderation.ipynb)\n",
    "- [day8_guardrails_moderation_a.ipynb](day8_guardrails_moderation_a.ipynb)\n",
    "- [day8_moderation_toolkits.ipynb](day8_moderation_toolkits.ipynb)\n",
    "- [day8_moderation_toolkits_a.ipynb](day8_moderation_toolkits_a.ipynb)\n",
    "- [day8_privacy_consent_regulatory.ipynb](day8_privacy_consent_regulatory.ipynb)\n",
    "- [day8_privacy_consent_regulatory_a.ipynb](day8_privacy_consent_regulatory_a.ipynb)\n",
    "- [day8_prompt_injection_jailbreak.ipynb](day8_prompt_injection_jailbreak.ipynb)\n",
    "- [day8_prompt_injection_jailbreak_a.ipynb](day8_prompt_injection_jailbreak_a.ipynb)\n",
    "- [Lab1_Chaining_and_Orchestration.ipynb](Lab1_Chaining_and_Orchestration.ipynb)\n",
    "- [Lab2_Multi_Agent_Workflows.ipynb](Lab2_Multi_Agent_Workflows.ipynb)\n",
    "- [Lab3_Logging_Deployment_Eval.ipynb](Lab3_Logging_Deployment_Eval.ipynb)\n",
    "- [00_Kickstart_Gap_Map.ipynb](00_Kickstart_Gap_Map.ipynb)\n",
    "- [00_Overview_Day10.ipynb](00_Overview_Day10.ipynb)\n",
    "- [00_Overview_Day10_b.ipynb](00_Overview_Day10_b.ipynb)\n",
    "- [01_Metrics_and_HumanEval.ipynb](01_Metrics_and_HumanEval.ipynb)\n",
    "- [01_Style_Structured_Formatting_Lab.ipynb](01_Style_Structured_Formatting_Lab.ipynb)\n",
    "- [02_Automated_Eval_AB_Testing.ipynb](02_Automated_Eval_AB_Testing.ipynb)\n",
    "- [02_Length_Reading_Level_Tone.ipynb](02_Length_Reading_Level_Tone.ipynb)\n",
    "- [03_Benchmarking_Suites.ipynb](03_Benchmarking_Suites.ipynb)\n",
    "- [03_Error_Spotting_Feedback_Loops.ipynb](03_Error_Spotting_Feedback_Loops.ipynb)\n",
    "- [04_Application_Quick_Hits.ipynb](04_Application_Quick_Hits.ipynb)\n",
    "- [04_Robustness_and_Adversarial.ipynb](04_Robustness_and_Adversarial.ipynb)\n",
    "- [05_Continuous_Optimization_and_Capstone.ipynb](05_Continuous_Optimization_and_Capstone.ipynb)\n",
    "- [05_Group_Prompting_Community.ipynb](05_Group_Prompting_Community.ipynb)\n",
    "- [06_Advanced_Adversarial_Fuzzing.ipynb](06_Advanced_Adversarial_Fuzzing.ipynb)\n",
    "- [06_HITL_Constraint_Balancing.ipynb](06_HITL_Constraint_Balancing.ipynb)\n",
    "- [07_Frontier_Research_Wrap.ipynb](07_Frontier_Research_Wrap.ipynb)\n",
    "- [07_StatSig_and_Sequential_AB.ipynb](07_StatSig_and_Sequential_AB.ipynb)\n",
    "- [08_CI_CD_GitHub_Actions.ipynb](08_CI_CD_GitHub_Actions.ipynb)\n",
    "- [09_Bias_and_Fairness_Eval.ipynb](09_Bias_and_Fairness_Eval.ipynb)\n",
    "- [day12_1_orientation_QA.ipynb](day12_1_orientation_QA.ipynb)\n",
    "- [day12_2_test_driven_prompting.ipynb](day12_2_test_driven_prompting.ipynb)\n",
    "- [day12_3_misunderstanding_ambiguity.ipynb](day12_3_misunderstanding_ambiguity.ipynb)\n",
    "- [day12_4_cross_model_interop.ipynb](day12_4_cross_model_interop.ipynb)\n",
    "- [day12_5_active_learning_loops.ipynb](day12_5_active_learning_loops.ipynb)\n",
    "- [day12_6_traceable_reasoning.ipynb](day12_6_traceable_reasoning.ipynb)\n",
    "- [day12_7_search_integrated_deep_research.ipynb](day12_7_search_integrated_deep_research.ipynb)\n",
    "- [day12_8_release_radar_ethics.ipynb](day12_8_release_radar_ethics.ipynb)\n"
   ]
  }
 ],
 "metadata": {
  "kernelspec": {
   "display_name": "Python 3",
   "language": "python",
   "name": "python3"
  },
  "language_info": {
   "name": "python",
   "pygments_lexer": "ipython3"
  }
 },
 "nbformat": 4,
 "nbformat_minor": 5
}
