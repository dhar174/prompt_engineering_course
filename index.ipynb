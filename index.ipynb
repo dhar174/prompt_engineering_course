{
 "cells": [
  {
   "cell_type": "markdown",
   "metadata": {},
   "source": [
    "# Demo Notebooks\n",
    "\n",
    "List of demo notebooks in this repo. Open any link in Colab or run locally.\n"
   ]
  },
  {
   "cell_type": "markdown",
   "metadata": {},
   "source": [
    "- [LangGraph_Chatbot.ipynb](LangGraph_Chatbot.ipynb)\n",
    "- [chatbot_with_memory.ipynb](chatbot_with_memory.ipynb)\n",
    "- [decoding_parameters_playground.ipynb](decoding_parameters_playground.ipynb)\n",
    "- [decoding_strategies_playground.ipynb](decoding_strategies_playground.ipynb)\n",
    "- [function_calling_demo.ipynb](function_calling_demo.ipynb)\n",
    "- [modular_prompt_library_builder.ipynb](modular_prompt_library_builder.ipynb)\n",
    "- [pal_plan_act_pipeline.ipynb](pal_plan_act_pipeline.ipynb)\n",
    "- [persona_roleplay_workbench.ipynb](persona_roleplay_workbench.ipynb)\n",
    "- [prompt_anatomy_template.ipynb](prompt_anatomy_template.ipynb)\n",
    "- [prompt_versioning_failure_log.ipynb](prompt_versioning_failure_log.ipynb)\n",
    "- [prompt_versioning_tracker.ipynb](prompt_versioning_tracker.ipynb)\n",
    "- [self_consistency_uncertainty.ipynb](self_consistency_uncertainty.ipynb)\n",
    "- [shot_prompt_patterns.ipynb](shot_prompt_patterns.ipynb)\n",
    "- [structured_output_validation.ipynb](structured_output_validation.ipynb)\n",
    "- [tokenization_playground.ipynb](tokenization_playground.ipynb)\n"
   ]
  }
 ],
 "metadata": {
  "kernelspec": {
   "display_name": "Python 3",
   "language": "python",
   "name": "python3"
  },
  "language_info": {
   "name": "python",
   "pygments_lexer": "ipython3"
  }
 },
 "nbformat": 4,
 "nbformat_minor": 5
}
