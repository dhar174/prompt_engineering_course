{
 "cells": [
  {
   "cell_type": "markdown",
   "id": "2d803159",
   "metadata": {},
   "source": [
    "# Lab 5 – Group Prompting & Community Workflows"
   ]
  },
  {
   "cell_type": "markdown",
   "id": "4563dfdb",
   "metadata": {},
   "source": [
    "### Learning Objectives\n",
    "* Co‑edit prompts in real time (simulate Google‑Docs in Colab).\n",
    "* Explore community libraries (PromptHub, Promptist) and licensing.\n",
    "* Understand revenue models for prompt marketplaces."
   ]
  },
  {
   "cell_type": "markdown",
   "id": "2f0a98e6",
   "metadata": {},
   "source": [
    "# Lab 5 – Collaborative Prompt Engineering"
   ]
  },
  {
   "cell_type": "markdown",
   "id": "f6fdd658",
   "metadata": {},
   "source": [
    "### Live Co‑Editing Exercise\n",
    "\n",
    "Use the shared Colab doc as a ‘single source of truth’.  \n",
    "Assign roles:\n",
    "\n",
    "* **Author A** – draft the base prompt  \n",
    "* **Author B** – add formatting & limits  \n",
    "* **Reviewer** – check directness, simplicity, length\n",
    "\n",
    "Iterate until checklist passes."
   ]
  },
  {
   "cell_type": "code",
   "execution_count": null,
   "id": "84fa8e1c",
   "metadata": {},
   "outputs": [],
   "source": [
    "# Placeholder – load community library metadata\n",
    "import json, requests, pandas as pd\n",
    "\n",
    "url = \"https://raw.githubusercontent.com/promptslab/awesome-prompts/main/prompts.json\"\n",
    "df = pd.read_json(url)\n",
    "df.head()"
   ]
  },
  {
   "cell_type": "markdown",
   "id": "206f9980",
   "metadata": {},
   "source": [
    "### Discussion\n",
    "\n",
    "* What licenses dominate?  \n",
    "* How would you monetise a high‑value prompt?"
   ]
  }
 ],
 "metadata": {},
 "nbformat": 4,
 "nbformat_minor": 5
}
