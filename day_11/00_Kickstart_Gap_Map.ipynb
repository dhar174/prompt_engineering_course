{
 "cells": [
  {
   "cell_type": "markdown",
   "id": "7b5da5fa",
   "metadata": {},
   "source": [
    "# Day 11 – Kick‑start & Gap Map"
   ]
  },
  {
   "cell_type": "markdown",
   "id": "6f1d8b5b",
   "metadata": {},
   "source": [
    "### Learning Objectives\n",
    "* Orient students to Day 11’s focus on polishing prompts, specialty formats, error‑handling, collaboration, and frontier research.\n",
    "* Map the remaining ‘gap’ concepts against the 163‑item master list and show why today matters."
   ]
  },
  {
   "cell_type": "markdown",
   "id": "025d2f6f",
   "metadata": {},
   "source": [
    "# Kick‑start & Gap Map\n",
    "\n",
    "Welcome to **Day 11** of the Prompt Engineering course – our final polish day!\n",
    "\n",
    "> **Theme:** Refinement, specialty formats, collaborative ecosystems, last‑mile error handling, and cutting‑edge research.\n",
    "\n",
    "In this short warm‑up we will:\n",
    "\n",
    "1. Review where we are in the 72‑session roadmap  \n",
    "2. Visualise any *gaps* in concept coverage  \n",
    "3. Build a simple *Gap Map* dashboard so you can track personal mastery"
   ]
  },
  {
   "cell_type": "code",
   "execution_count": null,
   "id": "1e9f5d23",
   "metadata": {},
   "outputs": [],
   "source": [
    "#@title Install helper libs (runs quickly)\n",
    "!pip -q install rich prettytable --progress-bar off"
   ]
  },
  {
   "cell_type": "code",
   "execution_count": null,
   "id": "57b5f250",
   "metadata": {},
   "outputs": [],
   "source": [
    "from prettytable import PrettyTable\n",
    "\n",
    "# 👉 A tiny sample – replace with the full 163‑concept list in production\n",
    "master = ['Prompt Construction','Contextual Prompting','Markdown/HTML','YAML/CSV',\n",
    "          'Reading‑level heuristics','Error spotting','Task‑Tree prompting']\n",
    "\n",
    "covered = ['Prompt Construction','Contextual Prompting']  # sample\n",
    "table = PrettyTable(['Concept','Covered?'])\n",
    "for c in master:\n",
    "    table.add_row([c, '✅' if c in covered else '⬜'])\n",
    "print(table)\n",
    "\n",
    "print(\"\\nAdd your own tracking logic or load from class JSON later.\")"
   ]
  },
  {
   "cell_type": "markdown",
   "id": "cb420299",
   "metadata": {},
   "source": [
    "## Exercise\n",
    "\n",
    "* Load the full `concept_catalogue.json` (provided in course repo)  \n",
    "* Mark items you’ve mastered and re‑render the table.  \n",
    "* **Stretch:** Plot coverage over time in Matplotlib."
   ]
  }
 ],
 "metadata": {},
 "nbformat": 4,
 "nbformat_minor": 5
}
