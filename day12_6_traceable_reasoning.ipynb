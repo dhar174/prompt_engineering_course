{
 "cells": [
  {
   "cell_type": "markdown",
   "id": "23a87bf9",
   "metadata": {},
   "source": [
    "\n",
    "# Day 12 · Notebook 6 — Traceable Reasoning & Audit Trails  (Concept #117)\n",
    "\n",
    "Regulators increasingly ask for *explainability*. We’ll store both the chain‑of‑thought **and** a SHA‑256 hash so auditors can verify it hasn’t been tampered with.\n"
   ]
  },
  {
   "cell_type": "code",
   "execution_count": null,
   "id": "0219f8e6",
   "metadata": {},
   "outputs": [],
   "source": [
    "\n",
    "import openai, json, hashlib\n",
    "\n",
    "prompt = (\n",
    "    \"You are a step‑by‑step reasoner. \"\n",
    "    \"Answer the question and output JSON with keys: thought, answer.\"\n",
    "    \"\\nQuestion: Why is the sky blue?\"\n",
    ")\n",
    "res = openai.ChatCompletion.create(\n",
    "    model=\"gpt-4o-mini\",\n",
    "    response_format={\"type\": \"json_object\"},\n",
    "    messages=[{\"role\":\"user\",\"content\": prompt}],\n",
    "    temperature=0,\n",
    "    max_tokens=256,\n",
    ").choices[0].message.content\n",
    "data = json.loads(res)\n",
    "digest = hashlib.sha256(data[\"thought\"].encode()).hexdigest()\n",
    "audit_record = {**data, \"hash\": digest}\n",
    "print(json.dumps(audit_record, indent=2))\n"
   ]
  },
  {
   "cell_type": "markdown",
   "id": "0fee801e",
   "metadata": {},
   "source": [
    "\n",
    "**Traceable‑Reasoning Schema**\n",
    "```json\n",
    "{\n",
    "  \"thought\": \"string — model’s internal reasoning\",\n",
    "  \"answer\": \"string — end‑user visible answer\",\n",
    "  \"hash\":   \"sha256(thought)\"\n",
    "}\n",
    "```\n",
    "Store the full JSON in a tamper‑evident log (e.g., append‑only SQL ledger).\n"
   ]
  }
 ],
 "metadata": {
  "colab": {
   "name": "day12_6_traceable_reasoning.ipynb"
  }
 },
 "nbformat": 4,
 "nbformat_minor": 5
}
