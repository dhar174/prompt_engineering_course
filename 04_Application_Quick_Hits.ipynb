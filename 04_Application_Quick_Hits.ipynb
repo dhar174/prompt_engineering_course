{
 "cells": [
  {
   "cell_type": "markdown",
   "id": "add61d14",
   "metadata": {},
   "source": [
    "# Lab 4 – Application Quick‑Hits"
   ]
  },
  {
   "cell_type": "markdown",
   "id": "fc9b46e7",
   "metadata": {},
   "source": [
    "### Learning Objectives\n",
    "* Contrast *abstractive* vs *extractive* summarisation.\n",
    "* Implement key‑point extraction with a zero‑shot prompt.\n",
    "* Generate creative‑writing cues for plot / character / genre.\n",
    "* Build a tiny fact‑checking agent."
   ]
  },
  {
   "cell_type": "markdown",
   "id": "2c5c8920",
   "metadata": {},
   "source": [
    "# Lab 4 – Fast Patterns for Real‑World Tasks"
   ]
  },
  {
   "cell_type": "code",
   "execution_count": null,
   "id": "eeee31e9",
   "metadata": {},
   "outputs": [],
   "source": [
    "!pip -q install transformers sentencepiece openai --progress-bar off\n",
    "from transformers import pipeline\n",
    "import openai, os, getpass, json\n",
    "openai.api_key = os.getenv(\"OPENAI_API_KEY\") or getpass.getpass()\n",
    "\n",
    "summariser = pipeline('summarization', model='facebook/bart-large-cnn')\n",
    "\n",
    "text = \"\"\"OpenAI's o3‑mini demonstrates test‑time compute scaling by adaptively \n",
    "allocating more inference steps for harder reasoning tasks...\"\"\"\n",
    "print(\"Extractive summary (first sentence):\", text.split(\".\")[0]+\".\")\n",
    "print(\"Abstractive summary:\", summariser(text, max_length=60)[0]['summary_text'])"
   ]
  },
  {
   "cell_type": "markdown",
   "id": "6ac4d2f5",
   "metadata": {},
   "source": [
    "## Exercise – Key‑Point Extractor\n",
    "\n",
    "Write a prompt that returns a bullet list of 5 key points **only**.\n",
    "\n",
    "## Bonus – Creative Cues\n",
    "\n",
    "1. Prompt the LLM to produce a **YAML** block with fields: `plot_hook`, `main_character`, `genre`, `twist`.  \n",
    "2. Limit to **30 tokens** total."
   ]
  }
 ],
 "metadata": {},
 "nbformat": 4,
 "nbformat_minor": 5
}
