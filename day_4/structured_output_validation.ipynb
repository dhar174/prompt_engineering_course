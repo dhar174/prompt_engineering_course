{
 "cells": [
  {
   "cell_type": "markdown",
   "id": "9ca8618f",
   "metadata": {},
   "source": [
    "# Structured‑Output Prompting & Validation\n",
    "Generate **JSON‑only** responses, validate them, and auto‑retry on failures."
   ]
  },
  {
   "cell_type": "code",
   "execution_count": null,
   "id": "1e2d0fe6",
   "metadata": {},
   "outputs": [],
   "source": [
    "!pip -q install openai ipywidgets"
   ]
  },
  {
   "cell_type": "code",
   "execution_count": null,
   "id": "91b30219",
   "metadata": {},
   "outputs": [],
   "source": [
    "import os, json, ipywidgets as w, time\n",
    "from openai import OpenAI\n",
    "from IPython.display import display, Markdown\n",
    "\n",
    "client = OpenAI(api_key=os.getenv('OPENAI_API_KEY', 'sk-'))\n",
    "\n",
    "prompt_box = w.Textarea(value='Return a JSON with keys name, age, favorite_color.',\n",
    "                        description='Prompt:',\n",
    "                        layout=w.Layout(width='100%', height='70px'))\n",
    "temperature = w.FloatSlider(value=0.7, min=0, max=2, step=0.1, description='Temp')\n",
    "retries = w.IntSlider(value=3, min=1, max=5, step=1, description='Retries')\n",
    "run_btn = w.Button(description='Run')\n",
    "out = w.Output()\n",
    "\n",
    "def call_model(prompt):\n",
    "    r = client.chat.completions.create(\n",
    "        model='gpt-4o-mini',\n",
    "        messages=[\n",
    "            {'role':'system','content':'Respond ONLY with valid JSON.'},\n",
    "            {'role':'user','content': prompt}\n",
    "        ],\n",
    "        temperature=temperature.value,\n",
    "        max_tokens=128\n",
    "    )\n",
    "    return r.choices[0].message.content.strip()\n",
    "\n",
    "def run(_):\n",
    "    with out:\n",
    "        out.clear_output()\n",
    "        for i in range(1, retries.value+1):\n",
    "            print(f'Attempt {i}')\n",
    "            txt = call_model(prompt_box.value)\n",
    "            try:\n",
    "                data = json.loads(txt)\n",
    "                display(Markdown('```json\\n'+json.dumps(data,indent=2)+'\\n```'))\n",
    "                break\n",
    "            except json.JSONDecodeError as e:\n",
    "                print('Invalid JSON:', e)\n",
    "                if i == retries.value:\n",
    "                    print('All retries failed. Raw output:', txt)\n",
    "                else:\n",
    "                    time.sleep(1)\n",
    "run_btn.on_click(run)\n",
    "display(w.VBox([prompt_box, temperature, retries, run_btn, out]))"
   ]
  }
 ],
 "metadata": {},
 "nbformat": 4,
 "nbformat_minor": 5
}
