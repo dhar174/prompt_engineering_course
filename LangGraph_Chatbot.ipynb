{
 "cells": [
  {
   "cell_type": "markdown",
   "id": "d41f8ed5",
   "metadata": {},
   "source": [
    "# **LangGraph Chatbot with Long-Term Memory, Agentic Behavior, and Real-Time Streaming**\n",
    "This notebook demonstrates a LangGraph-based chatbot with:\n",
    "- **Long-term memory** using a vector store.\n",
    "- **Agentic behavior** via conditional tool execution.\n",
    "- **Real-time streaming** for responses.\n",
    "\n",
    "Each step is implemented in separate cells below."
   ]
  },
  {
   "cell_type": "code",
   "execution_count": null,
   "id": "0a290268",
   "metadata": {},
   "outputs": [],
   "source": [
    "!pip install -U langgraph langchain-openai langchain-community tiktoken"
   ]
  },
  {
   "cell_type": "code",
   "execution_count": null,
   "id": "db14a455",
   "metadata": {},
   "outputs": [],
   "source": [
    "import getpass\n",
    "import os\n",
    "\n",
    "def set_env(var: str):\n",
    "\"\n",
    "                               \"    if not os.environ.get(var):\n",
    "\"\n",
    "                               \"        os.environ[var] = getpass.getpass(f'Enter {var}: ')\n",
    "\n",
    "\"\n",
    "                               \"# Set your OpenAI API key\n",
    "\"\n",
    "                               \"set_env('OPENAI_API_KEY')"
   ]
  },
  {
   "cell_type": "code",
   "execution_count": null,
   "id": "c6cbbf36",
   "metadata": {},
   "outputs": [],
   "source": [
    "from langchain_openai import ChatOpenAI\n",
    "from langgraph.graph import StateGraph, START, END\n",
    "from langgraph.checkpoint.memory import MemorySaver\n",
    "from langgraph.store.memory import InMemoryStore\n",
    "from langchain_core.messages import HumanMessage, SystemMessage, ToolMessage, AnyMessage\n",
    "from langchain_core.tools import tool\n",
    "from typing import List, Annotated\n",
    "import operator\n",
    "\n",
    "from langgraph.prebuilt.chat_agent_executor import AgentState"
   ]
  },
  {
   "cell_type": "code",
   "execution_count": null,
   "id": "f5a25858",
   "metadata": {},
   "outputs": [],
   "source": [
    "# Using AgentState directly\n",
    "MyAgentState = AgentState"
   ]
  },
  {
   "cell_type": "code",
   "execution_count": null,
   "id": "2447ff3d",
   "metadata": {},
   "outputs": [],
   "source": [
    "model = ChatOpenAI(model='gpt-4o-mini', temperature=0)\n",
    "\n",
    "from langchain_community.tools.tavily_search import TavilySearchResults\n",
    "\n",
    "@tool\n",
    "def search(query: str) -> str:\n",
    "    \"\"\"A simple search tool that returns a mocked weather report.\"\"\"\n",
    "    if 'sf' in query.lower():\n",
    "        return \"It's 60 degrees and foggy.\"\n",
    "    return \"It's 90 degrees and sunny.\"\n",
    "\n",
    "tools_list = [search]\n",
    "tools = {t.name: t for t in tools_list}\n",
    "model = model.bind_tools(list(tools.values()))"
   ]
  },
  {
   "cell_type": "code",
   "execution_count": null,
   "id": "b1ec38bf",
   "metadata": {},
   "outputs": [],
   "source": [
    "from langchain_openai.embeddings import OpenAIEmbeddings\n",
    "from langchain_community.vectorstores import FAISS\n",
    "from langchain_core.documents import Document\n",
    "import uuid\n",
    "import os\n",
    "\n",
    "# Initialize FAISS vector store with persistence\n",
    "embeddings = OpenAIEmbeddings()\n",
    "FAISS_INDEX_PATH = os.getenv('FAISS_INDEX_PATH', './faiss_index')\n",
    "try:\n",
    "    if os.path.exists(FAISS_INDEX_PATH):\n",
    "        vector_store = FAISS.load_local(FAISS_INDEX_PATH, embeddings, allow_dangerous_deserialization=True)\n",
    "    else:\n",
    "        # Create empty FAISS index with dummy text\n",
    "        vector_store = FAISS.from_texts(['dummy'], embeddings)\n",
    "        vector_store.save_local(FAISS_INDEX_PATH)\n",
    "except Exception:\n",
    "    # Fallback: create new index without persistence\n",
    "    vector_store = FAISS.from_texts(['dummy'], embeddings)\n",
    "\n",
    "@tool\n",
    "def upsert_memory(content: str, context: str) -> str:\n",
    "    memory_id = str(uuid.uuid4())\n",
    "    document = Document(page_content=content, id=memory_id, metadata={'context': context})\n",
    "    vector_store.add_documents([document])\n",
    "    # Save to disk for persistence\n",
    "    try:\n",
    "        vector_store.save_local(FAISS_INDEX_PATH)\n",
    "    except Exception:\n",
    "        pass  # Continue even if save fails\n",
    "    return f'Memory stored: {content}'\n",
    "\n",
    "@tool\n",
    "def search_memory(query: str) -> List[str]:\n",
    "    docs = vector_store.similarity_search(query, k=3)\n",
    "    return [doc.page_content for doc in docs]\n",
    "\n",
    "for t in [upsert_memory, search_memory]:\n",
    "    tools[t.name] = t\n",
    "model = model.bind_tools(list(tools.values()))"
   ]
  },
  {
   "cell_type": "code",
   "execution_count": null,
   "id": "26d6bd47",
   "metadata": {},
   "outputs": [],
   "source": [
    "def load_memories(state: MyAgentState):\n",
    "    from langchain_core.messages import get_buffer_string\n",
    "    convo = get_buffer_string(state['messages'])\n",
    "    retrieved = search_memory.invoke({'query': convo})\n",
    "    memories_str = '\\n'.join(retrieved) if retrieved else 'No relevant memories.'\n",
    "    mem_message = SystemMessage(content=f'<memories>\\n{memories_str}\\n</memories>')\n",
    "    return {'messages': [mem_message]}"
   ]
  },
  {
   "cell_type": "code",
   "execution_count": null,
   "id": "b1e63e3f",
   "metadata": {},
   "outputs": [],
   "source": [
    "def call_llm(state: MyAgentState):\n",
    "    messages = state['messages']\n",
    "    response = model.invoke(messages)\n",
    "    return {'messages': [response]}\n",
    "\n",
    "def execute_function(state: MyAgentState):\n",
    "    tool_calls = state['messages'][-1].tool_calls\n",
    "    results = []\n",
    "    for t in tool_calls:\n",
    "        if t['name'] not in tools:\n",
    "            result = 'Error: Tool not found.'\n",
    "        else:\n",
    "            result = tools[t['name']].invoke(t['args'])\n",
    "        results.append(ToolMessage(tool_call_id=t['id'], name=t['name'], content=str(result)))\n",
    "    return {'messages': results}\n",
    "\n",
    "def exists_function_calling(state: MyAgentState):\n",
    "    return len(state['messages'][-1].tool_calls) > 0"
   ]
  },
  {
   "cell_type": "code",
   "execution_count": null,
   "id": "824b5ba8",
   "metadata": {},
   "outputs": [],
   "source": [
    "checkpointer = MemorySaver()\n",
    "graph_builder = StateGraph(MyAgentState)\n",
    "graph_builder.add_node('load_memories', load_memories)\n",
    "graph_builder.add_node('llm', call_llm)\n",
    "graph_builder.add_node('tools', execute_function)\n",
    "\n",
    "graph_builder.add_edge(START, 'load_memories')\n",
    "graph_builder.add_edge('load_memories', 'llm')\n",
    "graph_builder.add_conditional_edges('llm', exists_function_calling, {True: 'tools', False: END})\n",
    "graph_builder.add_edge('tools', 'llm')\n",
    "graph_builder.set_entry_point('load_memories')\n",
    "graph = graph_builder.compile(checkpointer=checkpointer, store=vector_store)"
   ]
  },
  {
   "cell_type": "code",
   "execution_count": null,
   "id": "3e4f41cd",
   "metadata": {},
   "outputs": [],
   "source": [
    "from IPython.display import Image, display\n",
    "\n",
    "try:\n",
    "    display(Image(graph.get_graph().draw_mermaid_png()))\n",
    "except Exception as e:\n",
    "    print('Graph visualization not available:', e)"
   ]
  },
  {
   "cell_type": "code",
   "execution_count": null,
   "id": "5e0f56ed",
   "metadata": {},
   "outputs": [],
   "source": [
    "initial_messages = [HumanMessage(content='What is the weather in SF?')]\n",
    "config = {'configurable': {'thread_id': '1'}}\n",
    "\n",
    "for event in graph.stream({'messages': initial_messages}, config, stream_mode='values'):\n",
    "    print(event['messages'][-1].content)"
   ]
  },
  {
   "cell_type": "code",
   "execution_count": null,
   "id": "abef98ed",
   "metadata": {},
   "outputs": [],
   "source": [
    "followup_messages = [HumanMessage(content='And what about New York?')]\n",
    "\n",
    "for event in graph.stream({'messages': followup_messages}, config, stream_mode='values'):\n",
    "    print(event['messages'][-1].content)"
   ]
  }
 ],
 "metadata": {},
 "nbformat": 4,
 "nbformat_minor": 5
}
