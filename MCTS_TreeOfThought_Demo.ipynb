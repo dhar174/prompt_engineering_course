{
 "cells": [
  {
   "cell_type": "markdown",
   "id": "b4ba4faf",
   "metadata": {},
   "source": [
    "# 🎲 Monte‑Carlo Tree‑Search (MCTS) × Tree‑of‑Thought Demo\n",
    "\n",
    "*Day 5 bonus lab* — blend **MCTS** with LLM scoring for smart search.\n",
    "\n",
    "We implement **Tic‑Tac‑Toe** with:\n",
    "\n",
    "* Classic UCT MCTS (random rollouts)  \n",
    "* **LLM‑guided evaluation** at leaf nodes (optional)  \n",
    "* Comparison to naive random play\n",
    "\n",
    "> Set `OPENAI_API_KEY` for model‑based value estimates."
   ]
  },
  {
   "cell_type": "markdown",
   "id": "b8c188fe",
   "metadata": {},
   "source": [
    "## 🔧 0. Setup"
   ]
  },
  {
   "cell_type": "code",
   "execution_count": null,
   "id": "593af4a7",
   "metadata": {},
   "outputs": [],
   "source": [
    "%pip -q install --upgrade openai\n",
    "import os, math, random, copy\n",
    "import openai\n",
    "openai.api_key = os.getenv(\"OPENAI_API_KEY\")\n",
    "MODEL=\"gpt-4o-mini\""
   ]
  },
  {
   "cell_type": "markdown",
   "id": "435cda4f",
   "metadata": {},
   "source": [
    "---\n",
    "\n",
    "## 1️⃣ Tic‑Tac‑Toe Environment"
   ]
  },
  {
   "cell_type": "code",
   "execution_count": null,
   "id": "162f450c",
   "metadata": {},
   "outputs": [],
   "source": [
    "class TicTacToe:\n",
    "    def __init__(self):\n",
    "        self.board=[' ']*9  # 0..8\n",
    "        self.player='X'\n",
    "    def copy(self): \n",
    "        g=TicTacToe(); g.board=self.board[:]; g.player=self.player; return g\n",
    "    def moves(self):\n",
    "        return [i for i,b in enumerate(self.board) if b==' ']\n",
    "    def play(self, move):\n",
    "        self.board[move]=self.player\n",
    "        self.player='O' if self.player=='X' else 'X'\n",
    "    def winner(self):\n",
    "        wins=[(0,1,2),(3,4,5),(6,7,8),(0,3,6),(1,4,7),(2,5,8),(0,4,8),(2,4,6)]\n",
    "        for a,b,c in wins:\n",
    "            if self.board[a]==self.board[b]==self.board[c]!=' ': return self.board[a]\n",
    "        if ' ' not in self.board: return 'Draw'\n",
    "        return None\n",
    "    def __str__(self):\n",
    "        b=self.board\n",
    "        return f\"{b[0]}|{b[1]}|{b[2]}\\n-+-+-\\n{b[3]}|{b[4]}|{b[5]}\\n-+-+-\\n{b[6]}|{b[7]}|{b[8]}\"\n"
   ]
  },
  {
   "cell_type": "markdown",
   "id": "418ee9d5",
   "metadata": {},
   "source": [
    "---\n",
    "\n",
    "## 2️⃣ Minimal UCT Monte‑Carlo Tree‑Search"
   ]
  },
  {
   "cell_type": "code",
   "execution_count": null,
   "id": "76a27069",
   "metadata": {},
   "outputs": [],
   "source": [
    "class Node:\n",
    "    def __init__(self, state, parent=None, move=None):\n",
    "        self.state=state\n",
    "        self.parent=parent\n",
    "        self.move=move\n",
    "        self.children=[]\n",
    "        self.wins=0\n",
    "        self.visits=0\n",
    "    def uct(self, c=1.41):\n",
    "        if self.visits==0: return float('inf')\n",
    "        return self.wins/self.visits + c*math.sqrt(math.log(self.parent.visits)/self.visits)\n",
    "\n",
    "def mcts(root_state, iterations=500, rollout_random=True):\n",
    "    root=Node(root_state)\n",
    "    for _ in range(iterations):\n",
    "        node=root\n",
    "        # Selection\n",
    "        while node.children:\n",
    "            node=max(node.children, key=lambda n:n.uct())\n",
    "        # Expansion\n",
    "        winner=node.state.winner()\n",
    "        if winner is None:\n",
    "            for m in node.state.moves():\n",
    "                child_state=node.state.copy()\n",
    "                child_state.play(m)\n",
    "                node.children.append(Node(child_state, node, m))\n",
    "            node=random.choice(node.children)\n",
    "            winner=node.state.winner()\n",
    "        # Simulation\n",
    "        result=evaluate_rollout(node.state, rollout_random)\n",
    "        # Backprop\n",
    "        while node:\n",
    "            node.visits+=1\n",
    "            if result=='Draw':\n",
    "                node.wins+=0.5\n",
    "            elif result==node.state.player:  # note: player switched after move\n",
    "                node.wins+=1\n",
    "            node=node.parent\n",
    "    best_move=max(root.children, key=lambda n:n.visits).move\n",
    "    return best_move\n",
    "\n",
    "def evaluate_rollout(state, random_play=True):\n",
    "    g=state.copy()\n",
    "    winner=g.winner()\n",
    "    if winner: return winner\n",
    "    if random_play or not openai.api_key:\n",
    "        # random playout\n",
    "        while True:\n",
    "            g.play(random.choice(g.moves()))\n",
    "            winner=g.winner()\n",
    "            if winner: return winner\n",
    "    # LLM evaluation: ask model to judge board favorability for current player\n",
    "    prompt=f\"Current board (rows): {g.board}. Who is likely to win? Respond with X, O, or Draw.\"\n",
    "    try:\n",
    "        ans=openai.ChatCompletion.create(model=MODEL,messages=[{\"role\":\"user\",\"content\":prompt}],temperature=0)\n",
    "        return ans.choices[0].message.content.strip()\n",
    "    except:\n",
    "        # fallback random\n",
    "        while True:\n",
    "            g.play(random.choice(g.moves()))\n",
    "            winner=g.winner()\n",
    "            if winner: return winner\n"
   ]
  },
  {
   "cell_type": "markdown",
   "id": "521cc012",
   "metadata": {},
   "source": [
    "---\n",
    "\n",
    "## 3️⃣ Play a Match: MCTS vs. Random"
   ]
  },
  {
   "cell_type": "code",
   "execution_count": null,
   "id": "cccf3193",
   "metadata": {},
   "outputs": [],
   "source": [
    "def play_game():\n",
    "    game=TicTacToe()\n",
    "    while True:\n",
    "        if game.player=='X':\n",
    "            move=mcts(game.copy(), iterations=300, rollout_random=False)\n",
    "        else:\n",
    "            move=random.choice(game.moves())\n",
    "        game.play(move)\n",
    "        winner=game.winner()\n",
    "        if winner:\n",
    "            print(game)\n",
    "            print(\"Winner:\", winner)\n",
    "            return winner\n",
    "play_game()"
   ]
  },
  {
   "cell_type": "markdown",
   "id": "e218c1aa",
   "metadata": {},
   "source": [
    "### 📝 Experiments\n",
    "\n",
    "* Increase `iterations` to improve MCTS strength.  \n",
    "* Toggle `rollout_random=True/False` to compare **random** vs. **LLM‑guided** leaf evaluation (requires API key).  \n",
    "* Observe win‑rate over 20 games. Can MCTS with LLM evaluation beat pure random faster?"
   ]
  },
  {
   "cell_type": "markdown",
   "id": "e56f7570",
   "metadata": {},
   "source": [
    "---\n",
    "\n",
    "## 🔗 References\n",
    "\n",
    "* Browne et al., “A Survey of Monte‑Carlo Tree Search Methods”, 2012  \n",
    "* Silver et al., “AlphaGo”, 2016 – policy/value networks + MCTS  \n",
    "* Yao et al., 2023 – Tree‑of‑Thought parallels\n"
   ]
  }
 ],
 "metadata": {},
 "nbformat": 4,
 "nbformat_minor": 5
}
