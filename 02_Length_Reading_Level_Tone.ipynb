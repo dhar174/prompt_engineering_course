{
 "cells": [
  {
   "cell_type": "markdown",
   "id": "ccf272dc",
   "metadata": {},
   "source": [
    "# Lab 2 – Length, Reading‑Level & Tone"
   ]
  },
  {
   "cell_type": "markdown",
   "id": "67ef01da",
   "metadata": {},
   "source": [
    "### Learning Objectives\n",
    "* Compute reading‑level scores programmatically (Flesch, CEFR).\n",
    "* Prompt the model for *directness* and *simplicity*.\n",
    "* Diagnose over‑complex phrasing and refactor automatically."
   ]
  },
  {
   "cell_type": "markdown",
   "id": "5dd23181",
   "metadata": {},
   "source": [
    "# Lab 2 – Controlling Length, Reading Level & Tone"
   ]
  },
  {
   "cell_type": "code",
   "execution_count": null,
   "id": "63774542",
   "metadata": {},
   "outputs": [],
   "source": [
    "#@title Install textstat for readability metrics\n",
    "!pip -q install textstat --progress-bar off\n",
    "\n",
    "import textstat, re, textwrap"
   ]
  },
  {
   "cell_type": "code",
   "execution_count": null,
   "id": "ec10dec2",
   "metadata": {},
   "outputs": [],
   "source": [
    "sample = \"\"\"Large language models (LLMs) exhibit emergent abilities such as in‑context learning, chain‑of‑thought reasoning, and tool usage, which can be steered via skilfully engineered prompts.\"\"\"\n",
    "\n",
    "print(\"Flesch Reading‑Ease:\", textstat.flesch_reading_ease(sample))\n",
    "print(\"CEFR level (estimated):\", textstat.text_standard(sample))"
   ]
  },
  {
   "cell_type": "markdown",
   "id": "36aa35af",
   "metadata": {},
   "source": [
    "## Exercise A – Simplify\n",
    "\n",
    "1. Copy a paragraph of technical prose.  \n",
    "2. Ask the LLM to rewrite it for a **B1 (intermediate)** reader in ≤ 120 words.  \n",
    "3. Re‑compute metrics and compare.\n",
    "\n",
    "## Exercise B – Tone Checker\n",
    "\n",
    "Write a prompt that returns a YAML report with:  \n",
    "* `reading_level`  \n",
    "* `average_sentence_length`  \n",
    "* `verbosity_score`  \n",
    "* `rewrite_if_needed`"
   ]
  }
 ],
 "metadata": {},
 "nbformat": 4,
 "nbformat_minor": 5
}
