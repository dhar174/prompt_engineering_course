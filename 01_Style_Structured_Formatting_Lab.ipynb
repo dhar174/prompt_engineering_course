{
 "cells": [
  {
   "cell_type": "markdown",
   "id": "607bd49b",
   "metadata": {},
   "source": [
    "# Lab 1 – Style & Structured Formatting"
   ]
  },
  {
   "cell_type": "markdown",
   "id": "8714e616",
   "metadata": {},
   "source": [
    "### Learning Objectives\n",
    "* Practise forcing the LLM to emit Markdown, HTML, lists, YAML, and CSV.\n",
    "* Handle strict word/character limits.\n",
    "* Convert **one** prompt into *five* formats in a speed‑round exercise."
   ]
  },
  {
   "cell_type": "markdown",
   "id": "a6539d5f",
   "metadata": {},
   "source": [
    "# Lab 1 – Style & Structured Formatting\n",
    "\n",
    "High‑fidelity output formatting is critical for post‑processing.  \n",
    "Today you’ll learn pattern snippets that guarantee structure *every time*."
   ]
  },
  {
   "cell_type": "code",
   "execution_count": null,
   "id": "8d77bf34",
   "metadata": {},
   "outputs": [],
   "source": [
    "#@title Install OpenAI & textwrap (skip if already installed)\n",
    "!pip -q install openai textwrap3 --progress-bar off"
   ]
  },
  {
   "cell_type": "code",
   "execution_count": null,
   "id": "b04edbb4",
   "metadata": {},
   "outputs": [],
   "source": [
    "import os, textwrap, openai, json, pprint, getpass\n",
    "\n",
    "# Supply your own key\n",
    "openai.api_key = os.getenv(\"OPENAI_API_KEY\") or getpass.getpass(\"Enter OpenAI key:\")\n",
    "\n",
    "SYSTEM = \"You are a precise formatter that follows the user format exactly.\"\n",
    "USER   = \"Summarise the Katzenjammer Kids in {words} words using {fmt}.\"\n",
    "\n",
    "def ask(fmt=\"markdown\", words=50):\n",
    "    prompt = USER.format(words=words, fmt=fmt)\n",
    "    resp = openai.ChatCompletion.create(\n",
    "        model=\"gpt-4o-mini\", temperature=0.2,\n",
    "        messages=[{\"role\":\"system\",\"content\":SYSTEM},\n",
    "                  {\"role\":\"user\",\"content\":prompt}])\n",
    "    return resp.choices[0].message.content\n",
    "\n",
    "for fmt in [\"markdown\",\"html\",\"yaml\",\"csv\",\"plain\"]:\n",
    "    print(f\"## {fmt.upper()}\\n\")\n",
    "    print(ask(fmt=fmt, words=30))\n",
    "    print(\"\\n\"+\"-\"*60+\"\\n\")"
   ]
  },
  {
   "cell_type": "markdown",
   "id": "03b23136",
   "metadata": {},
   "source": [
    "### Speed‑Round Challenge\n",
    "\n",
    "Pick **any** topic. In **7 minutes**:\n",
    "\n",
    "1. Craft a single *source* prompt.  \n",
    "2. Generate outputs in **five** distinct formats.  \n",
    "3. Meet a **hard 75‑word limit** each time.\n",
    "\n",
    "Swap notebooks with a partner for peer review using the checklist in the *Peer doc*."
   ]
  }
 ],
 "metadata": {},
 "nbformat": 4,
 "nbformat_minor": 5
}
