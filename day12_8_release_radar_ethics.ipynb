{
 "cells": [
  {
   "cell_type": "markdown",
   "id": "ebce0b6b",
   "metadata": {},
   "source": [
    "\n",
    "# Day 12 · Notebook 8 — Prompt GUI Tour · Release Radar · Ethical Persuasion (Concepts #104, #155, #157)\n",
    "\n",
    "## 1. Prompt Authoring GUIs\n",
    "\n",
    "| Tool | Killer Feature | Try it |\n",
    "|------|----------------|--------|\n",
    "| **promptIDE** | Inline eval vs baseline | https://promptide.ai |\n",
    "| **Promptist Optimizer** | Automatic refines on click | https://promptist.ai |\n",
    "| **PromptHub** | Version control + share | https://prompthub.org |\n",
    "\n",
    "---\n",
    "## 2. Model‑Release Radar  🛰️\n",
    "\n",
    "Latest **Qwen‑2** family quirks  \n",
    "* 2‑bit quantisation fails on math tasks  \n",
    "* `act_order` flag improves factual QA  \n",
    "* Noticeable latency jump >70‑B\n",
    "\n",
    "| Model | Params | Best for | Cost tokens⁻¹ |\n",
    "|-------|--------|----------|---------------|\n",
    "| o3‑mini | 8 B | chatbots, RAG | $ |\n",
    "| Qwen‑2‑72B | 72 B | high‑stakes reasoning | $$$ |\n",
    "\n",
    "---\n",
    "## 3. Ethical Persuasion Sprint\n",
    "\n",
    "**Checklist**\n",
    "1. Explicitly state persuasive intent  \n",
    "2. Present evidence with citations  \n",
    "3. Offer counter‑arguments  \n",
    "4. Avoid exploiting cognitive biases\n",
    "\n",
    "**Exercise:** Rewrite the following marketing prompt to satisfy the checklist.\n"
   ]
  },
  {
   "cell_type": "markdown",
   "id": "53b5ff75",
   "metadata": {},
   "source": [
    "\n",
    "> *Original prompt:*  \n",
    "> “Write a catchy message convincing users they’re foolish if they don’t upgrade to our premium tier immediately.”\n",
    "\n",
    "**Your turn ↓**\n"
   ]
  },
  {
   "cell_type": "markdown",
   "id": "a4c34d00",
   "metadata": {},
   "source": [
    "\n",
    "---\n",
    "## 4. Final Synthesis & Launchpad\n",
    "1. Tick every box in the **Master Concept Checklist**  \n",
    "2. Publish your favourite prompt to PromptHub  \n",
    "3. Set up a cron job to hit the Release‑Radar RSS every Monday\n"
   ]
  }
 ],
 "metadata": {
  "colab": {
   "name": "day12_8_release_radar_ethics.ipynb"
  }
 },
 "nbformat": 4,
 "nbformat_minor": 5
}
