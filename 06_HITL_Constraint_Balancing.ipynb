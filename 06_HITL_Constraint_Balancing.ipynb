{
 "cells": [
  {
   "cell_type": "markdown",
   "id": "33bb81af",
   "metadata": {},
   "source": [
    "# Lab 6 – Human‑in‑the‑Loop & Constraint Balancing"
   ]
  },
  {
   "cell_type": "markdown",
   "id": "72d00916",
   "metadata": {},
   "source": [
    "### Learning Objectives\n",
    "* Pair‑program a reviewer–LLM workflow.\n",
    "* Diagnose over‑ vs under‑constrained prompts."
   ]
  },
  {
   "cell_type": "markdown",
   "id": "4786328b",
   "metadata": {},
   "source": [
    "# Lab 6 – HITL & Constraint Diagnostics"
   ]
  },
  {
   "cell_type": "code",
   "execution_count": null,
   "id": "f027fb1d",
   "metadata": {},
   "outputs": [],
   "source": [
    "def diagnose(prompt:str)->str:\n",
    "    \"\"\"Return advice on constraint issues using simple heuristics.\"\"\"\n",
    "    too_short = len(prompt.split())<20\n",
    "    lacks_format = not any(tag in prompt.lower() for tag in [\"markdown\",\"json\",\"yaml\"])\n",
    "    advice = []\n",
    "    if too_short: advice.append(\"💡 Add more context.\")\n",
    "    if lacks_format: advice.append(\"💡 Specify output format.\")\n",
    "    return \"\\n\".join(advice) or \"Looks good!\"\n",
    "\n",
    "diagnose(\"Translate to French.\")"
   ]
  },
  {
   "cell_type": "markdown",
   "id": "b1ebad86",
   "metadata": {},
   "source": [
    "### Pair Exercise\n",
    "\n",
    "1. Student A writes a prompt for a data‑pipeline task.  \n",
    "2. Student B runs `diagnose()` then edits.  \n",
    "3. Swap roles and repeat."
   ]
  }
 ],
 "metadata": {},
 "nbformat": 4,
 "nbformat_minor": 5
}
