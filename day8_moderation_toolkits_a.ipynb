{
 "cells": [
  {
   "cell_type": "markdown",
   "id": "0b829039",
   "metadata": {},
   "source": [
    "# Moderation & Toolkit Quick Demo (Optional)\n",
    "**Objective:** Use OpenAI moderation and PromptLayer for logging.\n"
   ]
  },
  {
   "cell_type": "markdown",
   "id": "dd8c8d5c",
   "metadata": {},
   "source": [
    "## 1. Install & imports"
   ]
  },
  {
   "cell_type": "code",
   "execution_count": null,
   "id": "68184a33",
   "metadata": {},
   "outputs": [],
   "source": [
    "!pip -q install openai promptlayer"
   ]
  },
  {
   "cell_type": "code",
   "execution_count": null,
   "id": "ecabb26a",
   "metadata": {},
   "outputs": [],
   "source": [
    "import os, promptlayer\n",
    "import openai\n",
    "openai.api_key=os.getenv('OPENAI_API_KEY')\n",
    "promptlayer.api_key=os.getenv('PROMPTLAYER_API_KEY')"
   ]
  },
  {
   "cell_type": "markdown",
   "id": "e5e93cd5",
   "metadata": {},
   "source": [
    "## 2. PromptLayer wrapper"
   ]
  },
  {
   "cell_type": "code",
   "execution_count": null,
   "id": "967532fa",
   "metadata": {},
   "outputs": [],
   "source": [
    "from promptlayer import promptlayer_openai\n",
    "def pl_chat(prompt):\n",
    "    return promptlayer_openai.ChatCompletion.create(\n",
    "        model='gpt-3.5-turbo', messages=[{'role':'user','content':prompt}],\n",
    "        request_name='day8_demo'\n",
    "    )\n"
   ]
  },
  {
   "cell_type": "markdown",
   "id": "13c25e6d",
   "metadata": {},
   "source": [
    "## 3. Combined moderation + logging"
   ]
  },
  {
   "cell_type": "code",
   "execution_count": null,
   "id": "6d4d74fd",
   "metadata": {},
   "outputs": [],
   "source": [
    "resp = pl_chat('Say something toxic')\n",
    "mod = openai.Moderation.create(input=resp.choices[0].message.content)\n",
    "print('Logged via PromptLayer and moderated:', mod)"
   ]
  }
 ],
 "metadata": {},
 "nbformat": 4,
 "nbformat_minor": 5
}
