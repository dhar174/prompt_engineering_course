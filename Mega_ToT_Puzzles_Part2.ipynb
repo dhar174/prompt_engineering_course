{
 "cells": [
  {
   "cell_type": "markdown",
   "id": "35b82857",
   "metadata": {},
   "source": [
    "# 🚀 Mega ToT Reasoning Labs — Part II  \n",
    "**15‑Puzzle, N‑Queens, Knight’s Tour (+ optional LLM guidance)**\n",
    "\n",
    "Continues the Day 5 exploration with *three* fresh puzzles that benefit from branching search:\n",
    "\n",
    "1. **15‑Puzzle** (4 × 4 slider)  \n",
    "2. **N‑Queens** (8‑Queens default, N configurable)  \n",
    "3. **Knight’s Tour** (closed tour on 5 × 5 or 8 × 8)  \n",
    "\n",
    "Each demo offers:\n",
    "\n",
    "* Plain heuristic scoring  \n",
    "* **LLM‑scored** option (set `OPENAI_API_KEY`)  \n",
    "* Experiments & visual helpers"
   ]
  },
  {
   "cell_type": "markdown",
   "id": "ef00f4f1",
   "metadata": {},
   "source": [
    "## 🔧 0. Setup"
   ]
  },
  {
   "cell_type": "code",
   "execution_count": null,
   "id": "4603fa52",
   "metadata": {},
   "outputs": [],
   "source": [
    "%pip -q install --upgrade openai networkx matplotlib\n",
    "import os, random, copy, math, itertools, collections, time\n",
    "import openai, networkx as nx, matplotlib.pyplot as plt\n",
    "openai.api_key = os.getenv(\"OPENAI_API_KEY\")\n",
    "MODEL=\"gpt-4o-mini\""
   ]
  },
  {
   "cell_type": "markdown",
   "id": "853d022b",
   "metadata": {},
   "source": [
    "### Generic Tree‑of‑Thought Beam Solver"
   ]
  },
  {
   "cell_type": "code",
   "execution_count": null,
   "id": "37134ce6",
   "metadata": {},
   "outputs": [],
   "source": [
    "class ToTSolver:\n",
    "    def __init__(self, expand, score, beam=10, max_depth=100, verbose=False):\n",
    "        self.expand=expand; self.score=score\n",
    "        self.beam=beam; self.max_depth=max_depth; self.verbose=verbose\n",
    "    def solve(self, start, is_goal):\n",
    "        frontier=[(start, self.score(start))]\n",
    "        for depth in range(self.max_depth):\n",
    "            if self.verbose: print(\"Depth\", depth, \"frontier\", len(frontier))\n",
    "            new=[]\n",
    "            for state,_ in frontier:\n",
    "                if is_goal(state): return state\n",
    "                for child in self.expand(state):\n",
    "                    new.append((child, self.score(child)))\n",
    "            frontier=sorted(new,key=lambda x:-x[1])[:self.beam]\n",
    "        return frontier[0][0]"
   ]
  },
  {
   "cell_type": "markdown",
   "id": "f5168563",
   "metadata": {},
   "source": [
    "---\n",
    "\n",
    "## 1️⃣ 15‑Puzzle (4×4 Sliding Tiles)"
   ]
  },
  {
   "cell_type": "code",
   "execution_count": null,
   "id": "6ef8e0fb",
   "metadata": {},
   "outputs": [],
   "source": [
    "GOAL15=tuple(range(1,16))+ (0,)\n",
    "\n",
    "def idx_rc(idx, size=4): return divmod(idx,size)\n",
    "\n",
    "def expand15(state):\n",
    "    size=4\n",
    "    idx0=state.index(0)\n",
    "    r,c=idx_rc(idx0,size)\n",
    "    children=[]\n",
    "    for dr,dc in [(-1,0),(1,0),(0,-1),(0,1)]:\n",
    "        nr,nc=r+dr,c+dc\n",
    "        if 0<=nr<size and 0<=nc<size:\n",
    "            nidx=nr*size+nc\n",
    "            lst=list(state)\n",
    "            lst[idx0],lst[nidx]=lst[nidx],lst[idx0]\n",
    "            children.append(tuple(lst))\n",
    "    return children\n",
    "\n",
    "def manhattan15(state):\n",
    "    size=4\n",
    "    dist=0\n",
    "    for i,val in enumerate(state):\n",
    "        if val==0: continue\n",
    "        gr,gc=idx_rc(val-1,size)\n",
    "        cr,cc=idx_rc(i,size)\n",
    "        dist+=abs(gr-cr)+abs(gc-cc)\n",
    "    return -dist\n",
    "\n",
    "def llm_score15(state):\n",
    "    if not openai.api_key: return manhattan15(state)\n",
    "    prompt=f\"15‑puzzle board {state}. Score -40 (worst) to 0 (solved) by how close it is to goal order. Single integer only.\"\n",
    "    try:\n",
    "        rep=openai.ChatCompletion.create(model=MODEL,messages=[{\"role\":\"user\",\"content\":prompt}],temperature=0)\n",
    "        return int(rep.choices[0].message.content.strip())\n",
    "    except: return manhattan15(state)\n",
    "\n",
    "start15=(1,2,3,4,5,6,7,8,9,10,11,12,0,13,14,15)\n",
    "solver15=ToTSolver(expand15,llm_score15,beam=30,max_depth=60)\n",
    "sol15=solver15.solve(start15, lambda s:s==GOAL15)\n",
    "print(\"Solved?\", sol15==GOAL15)"
   ]
  },
  {
   "cell_type": "markdown",
   "id": "a74d6da9",
   "metadata": {},
   "source": [
    "#### 📝 Experiments\n",
    "\n",
    "* Shuffle `start15` harder; watch beam width effect  \n",
    "* Compare heuristic vs. LLM score speed & success"
   ]
  },
  {
   "cell_type": "markdown",
   "id": "54bc9010",
   "metadata": {},
   "source": [
    "---\n",
    "\n",
    "## 2️⃣ N‑Queens (default N=8)"
   ]
  },
  {
   "cell_type": "code",
   "execution_count": null,
   "id": "74577245",
   "metadata": {},
   "outputs": [],
   "source": [
    "N=8\n",
    "def expand_q(state):\n",
    "    row=len(state)\n",
    "    if row==N: return []\n",
    "    children=[]\n",
    "    for col in range(N):\n",
    "        if all(col!=c and abs(col-c)!=row-i for i,c in enumerate(state)):\n",
    "            children.append(state+(col,))\n",
    "    return children\n",
    "\n",
    "def score_q(state):\n",
    "    return len(state)\n",
    "\n",
    "def llm_score_q(state):\n",
    "    if not openai.api_key: return score_q(state)\n",
    "    prompt=f\"We are placing queens. Board size {N}. Current rows: {state}. Rate 0‑{N} how promising this partial placement is toward no‑conflict full solution.\"\n",
    "    try:\n",
    "        out=openai.ChatCompletion.create(model=MODEL,messages=[{\"role\":\"user\",\"content\":prompt}],temperature=0)\n",
    "        return float(out.choices[0].message.content.strip())\n",
    "    except: return score_q(state)\n",
    "\n",
    "solverQ=ToTSolver(expand_q,llm_score_q,beam=30,max_depth=N)\n",
    "solutionQ=solverQ.solve(tuple(), lambda s: len(s)==N)\n",
    "print(\"Solution cols per row:\", solutionQ)"
   ]
  },
  {
   "cell_type": "markdown",
   "id": "b3677e55",
   "metadata": {},
   "source": [
    "#### 📝 Play\n",
    "\n",
    "* Try N=10, N=12 with larger beam  \n",
    "* Does LLM pruning help beyond simple `len(state)` score?"
   ]
  },
  {
   "cell_type": "markdown",
   "id": "3a9d3ede",
   "metadata": {},
   "source": [
    "---\n",
    "\n",
    "## 3️⃣ Knight’s Tour (5×5 default)\n",
    "\n",
    "Find a path that visits every square exactly once."
   ]
  },
  {
   "cell_type": "code",
   "execution_count": null,
   "id": "2969bcd3",
   "metadata": {},
   "outputs": [],
   "source": [
    "SIZE=5\n",
    "kn_moves=[(2,1),(1,2),(-1,2),(-2,1),(-2,-1),(-1,-2),(1,-2),(2,-1)]\n",
    "def valid(r,c): return 0<=r<SIZE and 0<=c<SIZE\n",
    "def expand_knight(path):\n",
    "    r,c=path[-1]\n",
    "    children=[]\n",
    "    for dr,dc in kn_moves:\n",
    "        nr,nc=r+dr,c+dc\n",
    "        if valid(nr,nc) and (nr,nc) not in path:\n",
    "            children.append(path+[(nr,nc)])\n",
    "    return children\n",
    "\n",
    "def score_knight(path):\n",
    "    return len(path)\n",
    "\n",
    "def llm_score_kn(path):\n",
    "    if not openai.api_key: return score_knight(path)\n",
    "    prompt=f\"Knight path length {len(path)}/{SIZE*SIZE}. Rate promise 0‑{SIZE*SIZE}.\"\n",
    "    try:\n",
    "        rep=openai.ChatCompletion.create(model=MODEL,messages=[{\"role\":\"user\",\"content\":prompt}],temperature=0)\n",
    "        return float(rep.choices[0].message.content.strip())\n",
    "    except: return score_knight(path)\n",
    "\n",
    "start_pos=(0,0)\n",
    "solverK=ToTSolver(expand_knight,llm_score_kn,beam=50,max_depth=SIZE*SIZE)\n",
    "solK=solverK.solve([start_pos], lambda p: len(p)==SIZE*SIZE)\n",
    "print(\"Tour found length:\", len(solK))"
   ]
  },
  {
   "cell_type": "markdown",
   "id": "c15bcf72",
   "metadata": {},
   "source": [
    "### Visualize (optional)"
   ]
  },
  {
   "cell_type": "code",
   "execution_count": null,
   "id": "efb907c2",
   "metadata": {},
   "outputs": [],
   "source": [
    "if len(solK)==SIZE*SIZE:\n",
    "    G=nx.DiGraph()\n",
    "    for i in range(len(solK)-1):\n",
    "        G.add_edge(solK[i], solK[i+1])\n",
    "    pos={(r,c):(c,-r) for r,c in G.nodes}\n",
    "    plt.figure(figsize=(6,6))\n",
    "    nx.draw(G,pos,with_labels=True,node_size=200,node_color='lightblue',arrows=False)\n",
    "    plt.title(\"Knight’s Tour path\")\n",
    "    plt.show()"
   ]
  },
  {
   "cell_type": "markdown",
   "id": "554b55bb",
   "metadata": {},
   "source": [
    "---\n",
    "\n",
    "## 🔗 References\n",
    "\n",
    "* Atkinson, “15‑Puzzle Optimal Solutions Revisited”, 2016  \n",
    "* Knuth, “Dancing Links” (N‑Queens)  \n",
    "* M. Conrad, “Knight’s Tour Algorithms”, 2022"
   ]
  }
 ],
 "metadata": {},
 "nbformat": 4,
 "nbformat_minor": 5
}
