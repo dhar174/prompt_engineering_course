{
 "cells": [
  {
   "cell_type": "markdown",
   "id": "911ec7c8",
   "metadata": {},
   "source": [
    "# CI/CD for Prompt‑Eval with GitHub Actions"
   ]
  }
 ],
 "metadata": {},
 "nbformat": 4,
 "nbformat_minor": 5
}
